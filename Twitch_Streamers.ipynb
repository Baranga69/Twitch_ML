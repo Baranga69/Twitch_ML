{
 "cells": [
  {
   "cell_type": "markdown",
   "metadata": {},
   "source": [
    "## Introduction"
   ]
  },
  {
   "cell_type": "markdown",
   "metadata": {},
   "source": [
    "My decision was based off the fact that I am a gamer and I have recently found out that watching other gamers play their games is very interesting"
   ]
  },
  {
   "cell_type": "code",
   "execution_count": 33,
   "metadata": {},
   "outputs": [],
   "source": [
    "import pandas as pd"
   ]
  },
  {
   "cell_type": "code",
   "execution_count": 34,
   "metadata": {},
   "outputs": [],
   "source": [
    "data= pd.read_csv('twitchdata-update.csv', header='infer')"
   ]
  },
  {
   "cell_type": "code",
   "execution_count": 35,
   "metadata": {},
   "outputs": [
    {
     "data": {
      "text/html": [
       "<div>\n",
       "<style scoped>\n",
       "    .dataframe tbody tr th:only-of-type {\n",
       "        vertical-align: middle;\n",
       "    }\n",
       "\n",
       "    .dataframe tbody tr th {\n",
       "        vertical-align: top;\n",
       "    }\n",
       "\n",
       "    .dataframe thead th {\n",
       "        text-align: right;\n",
       "    }\n",
       "</style>\n",
       "<table border=\"1\" class=\"dataframe\">\n",
       "  <thead>\n",
       "    <tr style=\"text-align: right;\">\n",
       "      <th></th>\n",
       "      <th>Channel</th>\n",
       "      <th>Watch time(Minutes)</th>\n",
       "      <th>Stream time(minutes)</th>\n",
       "      <th>Peak viewers</th>\n",
       "      <th>Average viewers</th>\n",
       "      <th>Followers</th>\n",
       "      <th>Followers gained</th>\n",
       "      <th>Views gained</th>\n",
       "      <th>Partnered</th>\n",
       "      <th>Mature</th>\n",
       "      <th>Language</th>\n",
       "    </tr>\n",
       "  </thead>\n",
       "  <tbody>\n",
       "    <tr>\n",
       "      <th>0</th>\n",
       "      <td>xQcOW</td>\n",
       "      <td>6196161750</td>\n",
       "      <td>215250</td>\n",
       "      <td>222720</td>\n",
       "      <td>27716</td>\n",
       "      <td>3246298</td>\n",
       "      <td>1734810</td>\n",
       "      <td>93036735</td>\n",
       "      <td>True</td>\n",
       "      <td>False</td>\n",
       "      <td>English</td>\n",
       "    </tr>\n",
       "    <tr>\n",
       "      <th>1</th>\n",
       "      <td>summit1g</td>\n",
       "      <td>6091677300</td>\n",
       "      <td>211845</td>\n",
       "      <td>310998</td>\n",
       "      <td>25610</td>\n",
       "      <td>5310163</td>\n",
       "      <td>1370184</td>\n",
       "      <td>89705964</td>\n",
       "      <td>True</td>\n",
       "      <td>False</td>\n",
       "      <td>English</td>\n",
       "    </tr>\n",
       "    <tr>\n",
       "      <th>2</th>\n",
       "      <td>Gaules</td>\n",
       "      <td>5644590915</td>\n",
       "      <td>515280</td>\n",
       "      <td>387315</td>\n",
       "      <td>10976</td>\n",
       "      <td>1767635</td>\n",
       "      <td>1023779</td>\n",
       "      <td>102611607</td>\n",
       "      <td>True</td>\n",
       "      <td>True</td>\n",
       "      <td>Portuguese</td>\n",
       "    </tr>\n",
       "    <tr>\n",
       "      <th>3</th>\n",
       "      <td>ESL_CSGO</td>\n",
       "      <td>3970318140</td>\n",
       "      <td>517740</td>\n",
       "      <td>300575</td>\n",
       "      <td>7714</td>\n",
       "      <td>3944850</td>\n",
       "      <td>703986</td>\n",
       "      <td>106546942</td>\n",
       "      <td>True</td>\n",
       "      <td>False</td>\n",
       "      <td>English</td>\n",
       "    </tr>\n",
       "    <tr>\n",
       "      <th>4</th>\n",
       "      <td>Tfue</td>\n",
       "      <td>3671000070</td>\n",
       "      <td>123660</td>\n",
       "      <td>285644</td>\n",
       "      <td>29602</td>\n",
       "      <td>8938903</td>\n",
       "      <td>2068424</td>\n",
       "      <td>78998587</td>\n",
       "      <td>True</td>\n",
       "      <td>False</td>\n",
       "      <td>English</td>\n",
       "    </tr>\n",
       "    <tr>\n",
       "      <th>...</th>\n",
       "      <td>...</td>\n",
       "      <td>...</td>\n",
       "      <td>...</td>\n",
       "      <td>...</td>\n",
       "      <td>...</td>\n",
       "      <td>...</td>\n",
       "      <td>...</td>\n",
       "      <td>...</td>\n",
       "      <td>...</td>\n",
       "      <td>...</td>\n",
       "      <td>...</td>\n",
       "    </tr>\n",
       "    <tr>\n",
       "      <th>995</th>\n",
       "      <td>LITkillah</td>\n",
       "      <td>122524635</td>\n",
       "      <td>13560</td>\n",
       "      <td>21359</td>\n",
       "      <td>9104</td>\n",
       "      <td>601927</td>\n",
       "      <td>562691</td>\n",
       "      <td>2162107</td>\n",
       "      <td>True</td>\n",
       "      <td>False</td>\n",
       "      <td>Spanish</td>\n",
       "    </tr>\n",
       "    <tr>\n",
       "      <th>996</th>\n",
       "      <td>빅헤드 (bighead033)</td>\n",
       "      <td>122523705</td>\n",
       "      <td>153000</td>\n",
       "      <td>3940</td>\n",
       "      <td>793</td>\n",
       "      <td>213212</td>\n",
       "      <td>52289</td>\n",
       "      <td>4399897</td>\n",
       "      <td>True</td>\n",
       "      <td>False</td>\n",
       "      <td>Korean</td>\n",
       "    </tr>\n",
       "    <tr>\n",
       "      <th>997</th>\n",
       "      <td>마스카 (newmasca)</td>\n",
       "      <td>122452320</td>\n",
       "      <td>217410</td>\n",
       "      <td>6431</td>\n",
       "      <td>567</td>\n",
       "      <td>109068</td>\n",
       "      <td>-4942</td>\n",
       "      <td>3417970</td>\n",
       "      <td>True</td>\n",
       "      <td>False</td>\n",
       "      <td>Korean</td>\n",
       "    </tr>\n",
       "    <tr>\n",
       "      <th>998</th>\n",
       "      <td>AndyMilonakis</td>\n",
       "      <td>122311065</td>\n",
       "      <td>104745</td>\n",
       "      <td>10543</td>\n",
       "      <td>1153</td>\n",
       "      <td>547446</td>\n",
       "      <td>109111</td>\n",
       "      <td>3926918</td>\n",
       "      <td>True</td>\n",
       "      <td>False</td>\n",
       "      <td>English</td>\n",
       "    </tr>\n",
       "    <tr>\n",
       "      <th>999</th>\n",
       "      <td>Remx</td>\n",
       "      <td>122192850</td>\n",
       "      <td>99180</td>\n",
       "      <td>13788</td>\n",
       "      <td>1205</td>\n",
       "      <td>178553</td>\n",
       "      <td>59432</td>\n",
       "      <td>2049420</td>\n",
       "      <td>True</td>\n",
       "      <td>False</td>\n",
       "      <td>French</td>\n",
       "    </tr>\n",
       "  </tbody>\n",
       "</table>\n",
       "<p>1000 rows × 11 columns</p>\n",
       "</div>"
      ],
      "text/plain": [
       "              Channel  Watch time(Minutes)  Stream time(minutes)  \\\n",
       "0               xQcOW           6196161750                215250   \n",
       "1            summit1g           6091677300                211845   \n",
       "2              Gaules           5644590915                515280   \n",
       "3            ESL_CSGO           3970318140                517740   \n",
       "4                Tfue           3671000070                123660   \n",
       "..                ...                  ...                   ...   \n",
       "995         LITkillah            122524635                 13560   \n",
       "996  빅헤드 (bighead033)            122523705                153000   \n",
       "997    마스카 (newmasca)            122452320                217410   \n",
       "998     AndyMilonakis            122311065                104745   \n",
       "999              Remx            122192850                 99180   \n",
       "\n",
       "     Peak viewers  Average viewers  Followers  Followers gained  Views gained  \\\n",
       "0          222720            27716    3246298           1734810      93036735   \n",
       "1          310998            25610    5310163           1370184      89705964   \n",
       "2          387315            10976    1767635           1023779     102611607   \n",
       "3          300575             7714    3944850            703986     106546942   \n",
       "4          285644            29602    8938903           2068424      78998587   \n",
       "..            ...              ...        ...               ...           ...   \n",
       "995         21359             9104     601927            562691       2162107   \n",
       "996          3940              793     213212             52289       4399897   \n",
       "997          6431              567     109068             -4942       3417970   \n",
       "998         10543             1153     547446            109111       3926918   \n",
       "999         13788             1205     178553             59432       2049420   \n",
       "\n",
       "     Partnered  Mature    Language  \n",
       "0         True   False     English  \n",
       "1         True   False     English  \n",
       "2         True    True  Portuguese  \n",
       "3         True   False     English  \n",
       "4         True   False     English  \n",
       "..         ...     ...         ...  \n",
       "995       True   False     Spanish  \n",
       "996       True   False      Korean  \n",
       "997       True   False      Korean  \n",
       "998       True   False     English  \n",
       "999       True   False      French  \n",
       "\n",
       "[1000 rows x 11 columns]"
      ]
     },
     "execution_count": 35,
     "metadata": {},
     "output_type": "execute_result"
    }
   ],
   "source": [
    "data"
   ]
  },
  {
   "cell_type": "code",
   "execution_count": 36,
   "metadata": {},
   "outputs": [
    {
     "data": {
      "text/plain": [
       "array(['English', 'Portuguese', 'Spanish', 'German', 'Korean', 'French',\n",
       "       'Russian', 'Japanese', 'Chinese', 'Czech', 'Turkish', 'Italian',\n",
       "       'Polish', 'Thai', 'Arabic', 'Slovak', 'Other', 'Hungarian',\n",
       "       'Greek', 'Finnish', 'Swedish'], dtype=object)"
      ]
     },
     "execution_count": 36,
     "metadata": {},
     "output_type": "execute_result"
    }
   ],
   "source": [
    "data['Language'].unique()"
   ]
  },
  {
   "cell_type": "code",
   "execution_count": 37,
   "metadata": {},
   "outputs": [],
   "source": [
    "data['Language'] = data['Language'].replace(['Portuguese', 'Spanish', 'German', 'Korean', 'French',\n",
    "       'Russian', 'Japanese', 'Chinese', 'Czech', 'Turkish', 'Italian',\n",
    "       'Polish', 'Thai', 'Arabic', 'Slovak', 'Other', 'Hungarian',\n",
    "       'Greek', 'Finnish', 'Swedish'],'Non-English')"
   ]
  },
  {
   "cell_type": "code",
   "execution_count": 38,
   "metadata": {},
   "outputs": [],
   "source": [
    "data['Mature'] = data['Mature'].replace([True], 1)"
   ]
  },
  {
   "cell_type": "code",
   "execution_count": 39,
   "metadata": {},
   "outputs": [],
   "source": [
    "data['Mature'] = data['Mature'].replace([False], 0)"
   ]
  },
  {
   "cell_type": "code",
   "execution_count": 40,
   "metadata": {},
   "outputs": [],
   "source": [
    "data['Partnered'] = data['Partnered'].replace([True], 1)"
   ]
  },
  {
   "cell_type": "code",
   "execution_count": 41,
   "metadata": {},
   "outputs": [],
   "source": [
    "data['Partnered'] = data['Partnered'].replace([False], 0)"
   ]
  },
  {
   "cell_type": "code",
   "execution_count": 42,
   "metadata": {},
   "outputs": [],
   "source": [
    "data['Language'] = data['Language'].replace(['English'], 1)"
   ]
  },
  {
   "cell_type": "code",
   "execution_count": 43,
   "metadata": {},
   "outputs": [],
   "source": [
    "data['Language'] = data['Language'].replace(['Non-English'], 0)"
   ]
  },
  {
   "cell_type": "code",
   "execution_count": 44,
   "metadata": {},
   "outputs": [],
   "source": [
    "data['Followers'].where(data['Followers'] > 1000000, 0, inplace=True)"
   ]
  },
  {
   "cell_type": "code",
   "execution_count": 45,
   "metadata": {},
   "outputs": [],
   "source": [
    "data['Followers'].where(data['Followers'] <= 1000000, 1, inplace=True)"
   ]
  },
  {
   "cell_type": "code",
   "execution_count": 46,
   "metadata": {},
   "outputs": [],
   "source": [
    "data['Peak viewers'].where(data['Peak viewers'] <= 100000, 1, inplace=True)"
   ]
  },
  {
   "cell_type": "code",
   "execution_count": 47,
   "metadata": {},
   "outputs": [],
   "source": [
    "data['Average viewers'].where(data['Average viewers'] > 10000, 0, inplace=True)"
   ]
  },
  {
   "cell_type": "code",
   "execution_count": 48,
   "metadata": {},
   "outputs": [],
   "source": [
    "data['Average viewers'].where(data['Average viewers'] <= 10000, 1, inplace=True)"
   ]
  },
  {
   "cell_type": "code",
   "execution_count": 49,
   "metadata": {},
   "outputs": [
    {
     "data": {
      "text/html": [
       "<div>\n",
       "<style scoped>\n",
       "    .dataframe tbody tr th:only-of-type {\n",
       "        vertical-align: middle;\n",
       "    }\n",
       "\n",
       "    .dataframe tbody tr th {\n",
       "        vertical-align: top;\n",
       "    }\n",
       "\n",
       "    .dataframe thead th {\n",
       "        text-align: right;\n",
       "    }\n",
       "</style>\n",
       "<table border=\"1\" class=\"dataframe\">\n",
       "  <thead>\n",
       "    <tr style=\"text-align: right;\">\n",
       "      <th></th>\n",
       "      <th>Channel</th>\n",
       "      <th>Watch time(Minutes)</th>\n",
       "      <th>Stream time(minutes)</th>\n",
       "      <th>Peak viewers</th>\n",
       "      <th>Average viewers</th>\n",
       "      <th>Followers</th>\n",
       "      <th>Followers gained</th>\n",
       "      <th>Views gained</th>\n",
       "      <th>Partnered</th>\n",
       "      <th>Mature</th>\n",
       "      <th>Language</th>\n",
       "    </tr>\n",
       "  </thead>\n",
       "  <tbody>\n",
       "    <tr>\n",
       "      <th>0</th>\n",
       "      <td>xQcOW</td>\n",
       "      <td>6196161750</td>\n",
       "      <td>215250</td>\n",
       "      <td>1</td>\n",
       "      <td>1</td>\n",
       "      <td>1</td>\n",
       "      <td>1734810</td>\n",
       "      <td>93036735</td>\n",
       "      <td>1</td>\n",
       "      <td>0</td>\n",
       "      <td>1</td>\n",
       "    </tr>\n",
       "    <tr>\n",
       "      <th>1</th>\n",
       "      <td>summit1g</td>\n",
       "      <td>6091677300</td>\n",
       "      <td>211845</td>\n",
       "      <td>1</td>\n",
       "      <td>1</td>\n",
       "      <td>1</td>\n",
       "      <td>1370184</td>\n",
       "      <td>89705964</td>\n",
       "      <td>1</td>\n",
       "      <td>0</td>\n",
       "      <td>1</td>\n",
       "    </tr>\n",
       "    <tr>\n",
       "      <th>2</th>\n",
       "      <td>Gaules</td>\n",
       "      <td>5644590915</td>\n",
       "      <td>515280</td>\n",
       "      <td>1</td>\n",
       "      <td>1</td>\n",
       "      <td>1</td>\n",
       "      <td>1023779</td>\n",
       "      <td>102611607</td>\n",
       "      <td>1</td>\n",
       "      <td>1</td>\n",
       "      <td>0</td>\n",
       "    </tr>\n",
       "    <tr>\n",
       "      <th>3</th>\n",
       "      <td>ESL_CSGO</td>\n",
       "      <td>3970318140</td>\n",
       "      <td>517740</td>\n",
       "      <td>1</td>\n",
       "      <td>0</td>\n",
       "      <td>1</td>\n",
       "      <td>703986</td>\n",
       "      <td>106546942</td>\n",
       "      <td>1</td>\n",
       "      <td>0</td>\n",
       "      <td>1</td>\n",
       "    </tr>\n",
       "    <tr>\n",
       "      <th>4</th>\n",
       "      <td>Tfue</td>\n",
       "      <td>3671000070</td>\n",
       "      <td>123660</td>\n",
       "      <td>1</td>\n",
       "      <td>1</td>\n",
       "      <td>1</td>\n",
       "      <td>2068424</td>\n",
       "      <td>78998587</td>\n",
       "      <td>1</td>\n",
       "      <td>0</td>\n",
       "      <td>1</td>\n",
       "    </tr>\n",
       "    <tr>\n",
       "      <th>...</th>\n",
       "      <td>...</td>\n",
       "      <td>...</td>\n",
       "      <td>...</td>\n",
       "      <td>...</td>\n",
       "      <td>...</td>\n",
       "      <td>...</td>\n",
       "      <td>...</td>\n",
       "      <td>...</td>\n",
       "      <td>...</td>\n",
       "      <td>...</td>\n",
       "      <td>...</td>\n",
       "    </tr>\n",
       "    <tr>\n",
       "      <th>995</th>\n",
       "      <td>LITkillah</td>\n",
       "      <td>122524635</td>\n",
       "      <td>13560</td>\n",
       "      <td>21359</td>\n",
       "      <td>0</td>\n",
       "      <td>0</td>\n",
       "      <td>562691</td>\n",
       "      <td>2162107</td>\n",
       "      <td>1</td>\n",
       "      <td>0</td>\n",
       "      <td>0</td>\n",
       "    </tr>\n",
       "    <tr>\n",
       "      <th>996</th>\n",
       "      <td>빅헤드 (bighead033)</td>\n",
       "      <td>122523705</td>\n",
       "      <td>153000</td>\n",
       "      <td>3940</td>\n",
       "      <td>0</td>\n",
       "      <td>0</td>\n",
       "      <td>52289</td>\n",
       "      <td>4399897</td>\n",
       "      <td>1</td>\n",
       "      <td>0</td>\n",
       "      <td>0</td>\n",
       "    </tr>\n",
       "    <tr>\n",
       "      <th>997</th>\n",
       "      <td>마스카 (newmasca)</td>\n",
       "      <td>122452320</td>\n",
       "      <td>217410</td>\n",
       "      <td>6431</td>\n",
       "      <td>0</td>\n",
       "      <td>0</td>\n",
       "      <td>-4942</td>\n",
       "      <td>3417970</td>\n",
       "      <td>1</td>\n",
       "      <td>0</td>\n",
       "      <td>0</td>\n",
       "    </tr>\n",
       "    <tr>\n",
       "      <th>998</th>\n",
       "      <td>AndyMilonakis</td>\n",
       "      <td>122311065</td>\n",
       "      <td>104745</td>\n",
       "      <td>10543</td>\n",
       "      <td>0</td>\n",
       "      <td>0</td>\n",
       "      <td>109111</td>\n",
       "      <td>3926918</td>\n",
       "      <td>1</td>\n",
       "      <td>0</td>\n",
       "      <td>1</td>\n",
       "    </tr>\n",
       "    <tr>\n",
       "      <th>999</th>\n",
       "      <td>Remx</td>\n",
       "      <td>122192850</td>\n",
       "      <td>99180</td>\n",
       "      <td>13788</td>\n",
       "      <td>0</td>\n",
       "      <td>0</td>\n",
       "      <td>59432</td>\n",
       "      <td>2049420</td>\n",
       "      <td>1</td>\n",
       "      <td>0</td>\n",
       "      <td>0</td>\n",
       "    </tr>\n",
       "  </tbody>\n",
       "</table>\n",
       "<p>1000 rows × 11 columns</p>\n",
       "</div>"
      ],
      "text/plain": [
       "              Channel  Watch time(Minutes)  Stream time(minutes)  \\\n",
       "0               xQcOW           6196161750                215250   \n",
       "1            summit1g           6091677300                211845   \n",
       "2              Gaules           5644590915                515280   \n",
       "3            ESL_CSGO           3970318140                517740   \n",
       "4                Tfue           3671000070                123660   \n",
       "..                ...                  ...                   ...   \n",
       "995         LITkillah            122524635                 13560   \n",
       "996  빅헤드 (bighead033)            122523705                153000   \n",
       "997    마스카 (newmasca)            122452320                217410   \n",
       "998     AndyMilonakis            122311065                104745   \n",
       "999              Remx            122192850                 99180   \n",
       "\n",
       "     Peak viewers  Average viewers  Followers  Followers gained  Views gained  \\\n",
       "0               1                1          1           1734810      93036735   \n",
       "1               1                1          1           1370184      89705964   \n",
       "2               1                1          1           1023779     102611607   \n",
       "3               1                0          1            703986     106546942   \n",
       "4               1                1          1           2068424      78998587   \n",
       "..            ...              ...        ...               ...           ...   \n",
       "995         21359                0          0            562691       2162107   \n",
       "996          3940                0          0             52289       4399897   \n",
       "997          6431                0          0             -4942       3417970   \n",
       "998         10543                0          0            109111       3926918   \n",
       "999         13788                0          0             59432       2049420   \n",
       "\n",
       "     Partnered  Mature  Language  \n",
       "0            1       0         1  \n",
       "1            1       0         1  \n",
       "2            1       1         0  \n",
       "3            1       0         1  \n",
       "4            1       0         1  \n",
       "..         ...     ...       ...  \n",
       "995          1       0         0  \n",
       "996          1       0         0  \n",
       "997          1       0         0  \n",
       "998          1       0         1  \n",
       "999          1       0         0  \n",
       "\n",
       "[1000 rows x 11 columns]"
      ]
     },
     "execution_count": 49,
     "metadata": {},
     "output_type": "execute_result"
    }
   ],
   "source": [
    "data"
   ]
  },
  {
   "cell_type": "markdown",
   "metadata": {},
   "source": [
    "## Building the Decision Tree Classifier "
   ]
  },
  {
   "cell_type": "code",
   "execution_count": 50,
   "metadata": {},
   "outputs": [],
   "source": [
    "from sklearn import tree"
   ]
  },
  {
   "cell_type": "code",
   "execution_count": 51,
   "metadata": {},
   "outputs": [],
   "source": [
    "y = data['Followers']"
   ]
  },
  {
   "cell_type": "code",
   "execution_count": 52,
   "metadata": {},
   "outputs": [
    {
     "data": {
      "text/plain": [
       "0      1\n",
       "1      1\n",
       "2      1\n",
       "3      1\n",
       "4      1\n",
       "      ..\n",
       "995    0\n",
       "996    0\n",
       "997    0\n",
       "998    0\n",
       "999    0\n",
       "Name: Followers, Length: 1000, dtype: int64"
      ]
     },
     "execution_count": 52,
     "metadata": {},
     "output_type": "execute_result"
    }
   ],
   "source": [
    "y"
   ]
  },
  {
   "cell_type": "code",
   "execution_count": 53,
   "metadata": {},
   "outputs": [],
   "source": [
    "X = data.drop(['Channel','Watch time(Minutes)','Stream time(minutes)','Followers','Followers gained','Views gained','Followers gained','Views gained','Partnered'], axis = 1)"
   ]
  },
  {
   "cell_type": "code",
   "execution_count": 54,
   "metadata": {},
   "outputs": [
    {
     "data": {
      "text/html": [
       "<div>\n",
       "<style scoped>\n",
       "    .dataframe tbody tr th:only-of-type {\n",
       "        vertical-align: middle;\n",
       "    }\n",
       "\n",
       "    .dataframe tbody tr th {\n",
       "        vertical-align: top;\n",
       "    }\n",
       "\n",
       "    .dataframe thead th {\n",
       "        text-align: right;\n",
       "    }\n",
       "</style>\n",
       "<table border=\"1\" class=\"dataframe\">\n",
       "  <thead>\n",
       "    <tr style=\"text-align: right;\">\n",
       "      <th></th>\n",
       "      <th>Peak viewers</th>\n",
       "      <th>Average viewers</th>\n",
       "      <th>Mature</th>\n",
       "      <th>Language</th>\n",
       "    </tr>\n",
       "  </thead>\n",
       "  <tbody>\n",
       "    <tr>\n",
       "      <th>0</th>\n",
       "      <td>1</td>\n",
       "      <td>1</td>\n",
       "      <td>0</td>\n",
       "      <td>1</td>\n",
       "    </tr>\n",
       "    <tr>\n",
       "      <th>1</th>\n",
       "      <td>1</td>\n",
       "      <td>1</td>\n",
       "      <td>0</td>\n",
       "      <td>1</td>\n",
       "    </tr>\n",
       "    <tr>\n",
       "      <th>2</th>\n",
       "      <td>1</td>\n",
       "      <td>1</td>\n",
       "      <td>1</td>\n",
       "      <td>0</td>\n",
       "    </tr>\n",
       "    <tr>\n",
       "      <th>3</th>\n",
       "      <td>1</td>\n",
       "      <td>0</td>\n",
       "      <td>0</td>\n",
       "      <td>1</td>\n",
       "    </tr>\n",
       "    <tr>\n",
       "      <th>4</th>\n",
       "      <td>1</td>\n",
       "      <td>1</td>\n",
       "      <td>0</td>\n",
       "      <td>1</td>\n",
       "    </tr>\n",
       "    <tr>\n",
       "      <th>...</th>\n",
       "      <td>...</td>\n",
       "      <td>...</td>\n",
       "      <td>...</td>\n",
       "      <td>...</td>\n",
       "    </tr>\n",
       "    <tr>\n",
       "      <th>995</th>\n",
       "      <td>21359</td>\n",
       "      <td>0</td>\n",
       "      <td>0</td>\n",
       "      <td>0</td>\n",
       "    </tr>\n",
       "    <tr>\n",
       "      <th>996</th>\n",
       "      <td>3940</td>\n",
       "      <td>0</td>\n",
       "      <td>0</td>\n",
       "      <td>0</td>\n",
       "    </tr>\n",
       "    <tr>\n",
       "      <th>997</th>\n",
       "      <td>6431</td>\n",
       "      <td>0</td>\n",
       "      <td>0</td>\n",
       "      <td>0</td>\n",
       "    </tr>\n",
       "    <tr>\n",
       "      <th>998</th>\n",
       "      <td>10543</td>\n",
       "      <td>0</td>\n",
       "      <td>0</td>\n",
       "      <td>1</td>\n",
       "    </tr>\n",
       "    <tr>\n",
       "      <th>999</th>\n",
       "      <td>13788</td>\n",
       "      <td>0</td>\n",
       "      <td>0</td>\n",
       "      <td>0</td>\n",
       "    </tr>\n",
       "  </tbody>\n",
       "</table>\n",
       "<p>1000 rows × 4 columns</p>\n",
       "</div>"
      ],
      "text/plain": [
       "     Peak viewers  Average viewers  Mature  Language\n",
       "0               1                1       0         1\n",
       "1               1                1       0         1\n",
       "2               1                1       1         0\n",
       "3               1                0       0         1\n",
       "4               1                1       0         1\n",
       "..            ...              ...     ...       ...\n",
       "995         21359                0       0         0\n",
       "996          3940                0       0         0\n",
       "997          6431                0       0         0\n",
       "998         10543                0       0         1\n",
       "999         13788                0       0         0\n",
       "\n",
       "[1000 rows x 4 columns]"
      ]
     },
     "execution_count": 54,
     "metadata": {},
     "output_type": "execute_result"
    }
   ],
   "source": [
    "X"
   ]
  },
  {
   "cell_type": "code",
   "execution_count": 55,
   "metadata": {},
   "outputs": [
    {
     "data": {
      "text/plain": [
       "pandas.core.series.Series"
      ]
     },
     "execution_count": 55,
     "metadata": {},
     "output_type": "execute_result"
    }
   ],
   "source": [
    "type(y)"
   ]
  },
  {
   "cell_type": "code",
   "execution_count": 56,
   "metadata": {},
   "outputs": [
    {
     "data": {
      "text/plain": [
       "pandas.core.frame.DataFrame"
      ]
     },
     "execution_count": 56,
     "metadata": {},
     "output_type": "execute_result"
    }
   ],
   "source": [
    "type(X)"
   ]
  },
  {
   "cell_type": "code",
   "execution_count": 57,
   "metadata": {},
   "outputs": [],
   "source": [
    "clf = tree.DecisionTreeClassifier(criterion = 'entropy', max_depth = 3)"
   ]
  },
  {
   "cell_type": "code",
   "execution_count": 58,
   "metadata": {},
   "outputs": [
    {
     "data": {
      "text/plain": [
       "DecisionTreeClassifier(criterion='entropy', max_depth=3)"
      ]
     },
     "execution_count": 58,
     "metadata": {},
     "output_type": "execute_result"
    }
   ],
   "source": [
    "clf"
   ]
  },
  {
   "cell_type": "code",
   "execution_count": 59,
   "metadata": {},
   "outputs": [],
   "source": [
    "clf = clf.fit(X,y)"
   ]
  },
  {
   "cell_type": "markdown",
   "metadata": {},
   "source": [
    "# Plot the results of the tree"
   ]
  },
  {
   "cell_type": "code",
   "execution_count": 60,
   "metadata": {},
   "outputs": [],
   "source": [
    "import pydotplus"
   ]
  },
  {
   "cell_type": "code",
   "execution_count": 61,
   "metadata": {},
   "outputs": [],
   "source": [
    "from IPython.display import Image"
   ]
  },
  {
   "cell_type": "code",
   "execution_count": 62,
   "metadata": {},
   "outputs": [],
   "source": [
    "dot_data = tree.export_graphviz(clf, feature_names=X.columns, class_names=['1M Followers','Less than 1M'], filled=True, out_file=None)"
   ]
  },
  {
   "cell_type": "code",
   "execution_count": 63,
   "metadata": {},
   "outputs": [],
   "source": [
    "graph = pydotplus.graph_from_dot_data(dot_data)"
   ]
  },
  {
   "cell_type": "code",
   "execution_count": 158,
   "metadata": {},
   "outputs": [
    {
     "ename": "InvocationException",
     "evalue": "GraphViz's executables not found",
     "output_type": "error",
     "traceback": [
      "\u001b[1;31m---------------------------------------------------------------------------\u001b[0m",
      "\u001b[1;31mInvocationException\u001b[0m                       Traceback (most recent call last)",
      "\u001b[1;32m~\\AppData\\Local\\Temp/ipykernel_22976/3935282027.py\u001b[0m in \u001b[0;36m<module>\u001b[1;34m\u001b[0m\n\u001b[1;32m----> 1\u001b[1;33m \u001b[0mImage\u001b[0m\u001b[1;33m(\u001b[0m\u001b[0mgraph\u001b[0m\u001b[1;33m.\u001b[0m\u001b[0mcreate_png\u001b[0m\u001b[1;33m(\u001b[0m\u001b[1;33m)\u001b[0m\u001b[1;33m)\u001b[0m\u001b[1;33m\u001b[0m\u001b[1;33m\u001b[0m\u001b[0m\n\u001b[0m",
      "\u001b[1;32mC:\\Python39\\lib\\site-packages\\pydotplus\\graphviz.py\u001b[0m in \u001b[0;36m<lambda>\u001b[1;34m(f, prog)\u001b[0m\n\u001b[0;32m   1795\u001b[0m             self.__setattr__(\n\u001b[0;32m   1796\u001b[0m                 \u001b[1;34m'create_'\u001b[0m \u001b[1;33m+\u001b[0m \u001b[0mfrmt\u001b[0m\u001b[1;33m,\u001b[0m\u001b[1;33m\u001b[0m\u001b[1;33m\u001b[0m\u001b[0m\n\u001b[1;32m-> 1797\u001b[1;33m                 \u001b[1;32mlambda\u001b[0m \u001b[0mf\u001b[0m\u001b[1;33m=\u001b[0m\u001b[0mfrmt\u001b[0m\u001b[1;33m,\u001b[0m \u001b[0mprog\u001b[0m\u001b[1;33m=\u001b[0m\u001b[0mself\u001b[0m\u001b[1;33m.\u001b[0m\u001b[0mprog\u001b[0m\u001b[1;33m:\u001b[0m \u001b[0mself\u001b[0m\u001b[1;33m.\u001b[0m\u001b[0mcreate\u001b[0m\u001b[1;33m(\u001b[0m\u001b[0mformat\u001b[0m\u001b[1;33m=\u001b[0m\u001b[0mf\u001b[0m\u001b[1;33m,\u001b[0m \u001b[0mprog\u001b[0m\u001b[1;33m=\u001b[0m\u001b[0mprog\u001b[0m\u001b[1;33m)\u001b[0m\u001b[1;33m\u001b[0m\u001b[1;33m\u001b[0m\u001b[0m\n\u001b[0m\u001b[0;32m   1798\u001b[0m             )\n\u001b[0;32m   1799\u001b[0m             \u001b[0mf\u001b[0m \u001b[1;33m=\u001b[0m \u001b[0mself\u001b[0m\u001b[1;33m.\u001b[0m\u001b[0m__dict__\u001b[0m\u001b[1;33m[\u001b[0m\u001b[1;34m'create_'\u001b[0m \u001b[1;33m+\u001b[0m \u001b[0mfrmt\u001b[0m\u001b[1;33m]\u001b[0m\u001b[1;33m\u001b[0m\u001b[1;33m\u001b[0m\u001b[0m\n",
      "\u001b[1;32mC:\\Python39\\lib\\site-packages\\pydotplus\\graphviz.py\u001b[0m in \u001b[0;36mcreate\u001b[1;34m(self, prog, format)\u001b[0m\n\u001b[0;32m   1957\u001b[0m             \u001b[0mself\u001b[0m\u001b[1;33m.\u001b[0m\u001b[0mprogs\u001b[0m \u001b[1;33m=\u001b[0m \u001b[0mfind_graphviz\u001b[0m\u001b[1;33m(\u001b[0m\u001b[1;33m)\u001b[0m\u001b[1;33m\u001b[0m\u001b[1;33m\u001b[0m\u001b[0m\n\u001b[0;32m   1958\u001b[0m             \u001b[1;32mif\u001b[0m \u001b[0mself\u001b[0m\u001b[1;33m.\u001b[0m\u001b[0mprogs\u001b[0m \u001b[1;32mis\u001b[0m \u001b[1;32mNone\u001b[0m\u001b[1;33m:\u001b[0m\u001b[1;33m\u001b[0m\u001b[1;33m\u001b[0m\u001b[0m\n\u001b[1;32m-> 1959\u001b[1;33m                 raise InvocationException(\n\u001b[0m\u001b[0;32m   1960\u001b[0m                     'GraphViz\\'s executables not found')\n\u001b[0;32m   1961\u001b[0m \u001b[1;33m\u001b[0m\u001b[0m\n",
      "\u001b[1;31mInvocationException\u001b[0m: GraphViz's executables not found"
     ]
    },
    {
     "name": "stderr",
     "output_type": "stream",
     "text": [
      "\u001b[34m\u001b[1mwandb\u001b[0m: Network error resolved after 0:02:33.543440, resuming normal operation.\n"
     ]
    }
   ],
   "source": [
    "Image(graph.create_png())"
   ]
  },
  {
   "cell_type": "markdown",
   "metadata": {},
   "source": [
    "# Using the Decision Tree to Classify new Datasets"
   ]
  },
  {
   "cell_type": "code",
   "execution_count": 65,
   "metadata": {},
   "outputs": [],
   "source": [
    "testData = [['Dalinar', 1,1,0,1,'1M Followers'], ['Kelek',0,1,1,1,'Less than 1M'], ['Waxillium', 1,0,0,0,'Less than 1M'], ['Marasi',0,1,0,0,'1M Followers']]"
   ]
  },
  {
   "cell_type": "code",
   "execution_count": 66,
   "metadata": {},
   "outputs": [
    {
     "data": {
      "text/plain": [
       "[['Dalinar', 1, 1, 0, 1, '1M Followers'],\n",
       " ['Kelek', 0, 1, 1, 1, 'Less than 1M'],\n",
       " ['Waxillium', 1, 0, 0, 0, 'Less than 1M'],\n",
       " ['Marasi', 0, 1, 0, 0, '1M Followers']]"
      ]
     },
     "execution_count": 66,
     "metadata": {},
     "output_type": "execute_result"
    }
   ],
   "source": [
    "testData"
   ]
  },
  {
   "cell_type": "code",
   "execution_count": 67,
   "metadata": {},
   "outputs": [],
   "source": [
    "testData=pd.DataFrame(testData, columns=['Name','Peak viewers','Average viewers','Mature','Language','Followers'])"
   ]
  },
  {
   "cell_type": "code",
   "execution_count": 68,
   "metadata": {},
   "outputs": [
    {
     "data": {
      "text/html": [
       "<div>\n",
       "<style scoped>\n",
       "    .dataframe tbody tr th:only-of-type {\n",
       "        vertical-align: middle;\n",
       "    }\n",
       "\n",
       "    .dataframe tbody tr th {\n",
       "        vertical-align: top;\n",
       "    }\n",
       "\n",
       "    .dataframe thead th {\n",
       "        text-align: right;\n",
       "    }\n",
       "</style>\n",
       "<table border=\"1\" class=\"dataframe\">\n",
       "  <thead>\n",
       "    <tr style=\"text-align: right;\">\n",
       "      <th></th>\n",
       "      <th>Name</th>\n",
       "      <th>Peak viewers</th>\n",
       "      <th>Average viewers</th>\n",
       "      <th>Mature</th>\n",
       "      <th>Language</th>\n",
       "      <th>Followers</th>\n",
       "    </tr>\n",
       "  </thead>\n",
       "  <tbody>\n",
       "    <tr>\n",
       "      <th>0</th>\n",
       "      <td>Dalinar</td>\n",
       "      <td>1</td>\n",
       "      <td>1</td>\n",
       "      <td>0</td>\n",
       "      <td>1</td>\n",
       "      <td>1M Followers</td>\n",
       "    </tr>\n",
       "    <tr>\n",
       "      <th>1</th>\n",
       "      <td>Kelek</td>\n",
       "      <td>0</td>\n",
       "      <td>1</td>\n",
       "      <td>1</td>\n",
       "      <td>1</td>\n",
       "      <td>Less than 1M</td>\n",
       "    </tr>\n",
       "    <tr>\n",
       "      <th>2</th>\n",
       "      <td>Waxillium</td>\n",
       "      <td>1</td>\n",
       "      <td>0</td>\n",
       "      <td>0</td>\n",
       "      <td>0</td>\n",
       "      <td>Less than 1M</td>\n",
       "    </tr>\n",
       "    <tr>\n",
       "      <th>3</th>\n",
       "      <td>Marasi</td>\n",
       "      <td>0</td>\n",
       "      <td>1</td>\n",
       "      <td>0</td>\n",
       "      <td>0</td>\n",
       "      <td>1M Followers</td>\n",
       "    </tr>\n",
       "  </tbody>\n",
       "</table>\n",
       "</div>"
      ],
      "text/plain": [
       "        Name  Peak viewers  Average viewers  Mature  Language     Followers\n",
       "0    Dalinar             1                1       0         1  1M Followers\n",
       "1      Kelek             0                1       1         1  Less than 1M\n",
       "2  Waxillium             1                0       0         0  Less than 1M\n",
       "3     Marasi             0                1       0         0  1M Followers"
      ]
     },
     "execution_count": 68,
     "metadata": {},
     "output_type": "execute_result"
    }
   ],
   "source": [
    "testData"
   ]
  },
  {
   "cell_type": "code",
   "execution_count": 69,
   "metadata": {},
   "outputs": [],
   "source": [
    "testY=testData['Followers']"
   ]
  },
  {
   "cell_type": "code",
   "execution_count": 70,
   "metadata": {},
   "outputs": [
    {
     "data": {
      "text/plain": [
       "0    1M Followers\n",
       "1    Less than 1M\n",
       "2    Less than 1M\n",
       "3    1M Followers\n",
       "Name: Followers, dtype: object"
      ]
     },
     "execution_count": 70,
     "metadata": {},
     "output_type": "execute_result"
    }
   ],
   "source": [
    "testY"
   ]
  },
  {
   "cell_type": "code",
   "execution_count": 71,
   "metadata": {},
   "outputs": [],
   "source": [
    "testX=testData.drop(['Name', 'Followers'], axis=1)"
   ]
  },
  {
   "cell_type": "code",
   "execution_count": 72,
   "metadata": {},
   "outputs": [
    {
     "data": {
      "text/html": [
       "<div>\n",
       "<style scoped>\n",
       "    .dataframe tbody tr th:only-of-type {\n",
       "        vertical-align: middle;\n",
       "    }\n",
       "\n",
       "    .dataframe tbody tr th {\n",
       "        vertical-align: top;\n",
       "    }\n",
       "\n",
       "    .dataframe thead th {\n",
       "        text-align: right;\n",
       "    }\n",
       "</style>\n",
       "<table border=\"1\" class=\"dataframe\">\n",
       "  <thead>\n",
       "    <tr style=\"text-align: right;\">\n",
       "      <th></th>\n",
       "      <th>Peak viewers</th>\n",
       "      <th>Average viewers</th>\n",
       "      <th>Mature</th>\n",
       "      <th>Language</th>\n",
       "    </tr>\n",
       "  </thead>\n",
       "  <tbody>\n",
       "    <tr>\n",
       "      <th>0</th>\n",
       "      <td>1</td>\n",
       "      <td>1</td>\n",
       "      <td>0</td>\n",
       "      <td>1</td>\n",
       "    </tr>\n",
       "    <tr>\n",
       "      <th>1</th>\n",
       "      <td>0</td>\n",
       "      <td>1</td>\n",
       "      <td>1</td>\n",
       "      <td>1</td>\n",
       "    </tr>\n",
       "    <tr>\n",
       "      <th>2</th>\n",
       "      <td>1</td>\n",
       "      <td>0</td>\n",
       "      <td>0</td>\n",
       "      <td>0</td>\n",
       "    </tr>\n",
       "    <tr>\n",
       "      <th>3</th>\n",
       "      <td>0</td>\n",
       "      <td>1</td>\n",
       "      <td>0</td>\n",
       "      <td>0</td>\n",
       "    </tr>\n",
       "  </tbody>\n",
       "</table>\n",
       "</div>"
      ],
      "text/plain": [
       "   Peak viewers  Average viewers  Mature  Language\n",
       "0             1                1       0         1\n",
       "1             0                1       1         1\n",
       "2             1                0       0         0\n",
       "3             0                1       0         0"
      ]
     },
     "execution_count": 72,
     "metadata": {},
     "output_type": "execute_result"
    }
   ],
   "source": [
    "testX"
   ]
  },
  {
   "cell_type": "code",
   "execution_count": 73,
   "metadata": {},
   "outputs": [],
   "source": [
    "predY=clf.predict(testX)"
   ]
  },
  {
   "cell_type": "code",
   "execution_count": 74,
   "metadata": {},
   "outputs": [
    {
     "data": {
      "text/plain": [
       "numpy.ndarray"
      ]
     },
     "execution_count": 74,
     "metadata": {},
     "output_type": "execute_result"
    }
   ],
   "source": [
    "type(predY)"
   ]
  },
  {
   "cell_type": "code",
   "execution_count": 75,
   "metadata": {},
   "outputs": [
    {
     "data": {
      "text/plain": [
       "array([1, 1, 0, 1], dtype=int64)"
      ]
     },
     "execution_count": 75,
     "metadata": {},
     "output_type": "execute_result"
    }
   ],
   "source": [
    "predY"
   ]
  },
  {
   "cell_type": "code",
   "execution_count": 76,
   "metadata": {},
   "outputs": [],
   "source": [
    "predictions=pd.concat([testData['Name'],testData['Followers'], pd.Series(predY, name='Predicted Followers')], axis=1)"
   ]
  },
  {
   "cell_type": "code",
   "execution_count": 77,
   "metadata": {},
   "outputs": [
    {
     "data": {
      "text/html": [
       "<div>\n",
       "<style scoped>\n",
       "    .dataframe tbody tr th:only-of-type {\n",
       "        vertical-align: middle;\n",
       "    }\n",
       "\n",
       "    .dataframe tbody tr th {\n",
       "        vertical-align: top;\n",
       "    }\n",
       "\n",
       "    .dataframe thead th {\n",
       "        text-align: right;\n",
       "    }\n",
       "</style>\n",
       "<table border=\"1\" class=\"dataframe\">\n",
       "  <thead>\n",
       "    <tr style=\"text-align: right;\">\n",
       "      <th></th>\n",
       "      <th>Name</th>\n",
       "      <th>Followers</th>\n",
       "      <th>Predicted Followers</th>\n",
       "    </tr>\n",
       "  </thead>\n",
       "  <tbody>\n",
       "    <tr>\n",
       "      <th>0</th>\n",
       "      <td>Dalinar</td>\n",
       "      <td>1M Followers</td>\n",
       "      <td>1</td>\n",
       "    </tr>\n",
       "    <tr>\n",
       "      <th>1</th>\n",
       "      <td>Kelek</td>\n",
       "      <td>Less than 1M</td>\n",
       "      <td>1</td>\n",
       "    </tr>\n",
       "    <tr>\n",
       "      <th>2</th>\n",
       "      <td>Waxillium</td>\n",
       "      <td>Less than 1M</td>\n",
       "      <td>0</td>\n",
       "    </tr>\n",
       "    <tr>\n",
       "      <th>3</th>\n",
       "      <td>Marasi</td>\n",
       "      <td>1M Followers</td>\n",
       "      <td>1</td>\n",
       "    </tr>\n",
       "  </tbody>\n",
       "</table>\n",
       "</div>"
      ],
      "text/plain": [
       "        Name     Followers  Predicted Followers\n",
       "0    Dalinar  1M Followers                    1\n",
       "1      Kelek  Less than 1M                    1\n",
       "2  Waxillium  Less than 1M                    0\n",
       "3     Marasi  1M Followers                    1"
      ]
     },
     "execution_count": 77,
     "metadata": {},
     "output_type": "execute_result"
    }
   ],
   "source": [
    "predictions"
   ]
  },
  {
   "cell_type": "code",
   "execution_count": 78,
   "metadata": {},
   "outputs": [],
   "source": [
    "from sklearn.metrics import accuracy_score\n",
    "import numpy as np"
   ]
  },
  {
   "cell_type": "code",
   "execution_count": 79,
   "metadata": {},
   "outputs": [
    {
     "data": {
      "text/plain": [
       "array([1, 1, 0, 1], dtype=int64)"
      ]
     },
     "execution_count": 79,
     "metadata": {},
     "output_type": "execute_result"
    }
   ],
   "source": [
    "predY\n"
   ]
  },
  {
   "cell_type": "code",
   "execution_count": 81,
   "metadata": {},
   "outputs": [],
   "source": [
    "predY = np.select([predY==1, predY==0], [\"1M Followers\", \"Less than 1M\"], predY)"
   ]
  },
  {
   "cell_type": "code",
   "execution_count": 80,
   "metadata": {},
   "outputs": [
    {
     "data": {
      "text/plain": [
       "array([1, 1, 0, 1], dtype=int64)"
      ]
     },
     "execution_count": 80,
     "metadata": {},
     "output_type": "execute_result"
    }
   ],
   "source": [
    "predY\n"
   ]
  },
  {
   "cell_type": "code",
   "execution_count": 82,
   "metadata": {},
   "outputs": [
    {
     "name": "stdout",
     "output_type": "stream",
     "text": [
      "Accuracy on data is 75.00\n"
     ]
    }
   ],
   "source": [
    "print('Accuracy on data is %.2f'%(accuracy_score(testY,predY)*100.))"
   ]
  },
  {
   "cell_type": "markdown",
   "metadata": {},
   "source": [
    "# Logistic Regression"
   ]
  },
  {
   "cell_type": "markdown",
   "metadata": {},
   "source": [
    "Filter unnecessary warnings"
   ]
  },
  {
   "cell_type": "code",
   "execution_count": 83,
   "metadata": {},
   "outputs": [],
   "source": [
    "import warnings\n",
    "warnings.filterwarnings(\"ignore\")"
   ]
  },
  {
   "cell_type": "code",
   "execution_count": 84,
   "metadata": {},
   "outputs": [],
   "source": [
    "import numpy as np\n",
    "import pandas as pd"
   ]
  },
  {
   "cell_type": "markdown",
   "metadata": {},
   "source": [
    "# Seeding"
   ]
  },
  {
   "cell_type": "code",
   "execution_count": 85,
   "metadata": {},
   "outputs": [],
   "source": [
    "np.random.seed(5)"
   ]
  },
  {
   "cell_type": "markdown",
   "metadata": {},
   "source": [
    "# Read the Data"
   ]
  },
  {
   "cell_type": "code",
   "execution_count": 86,
   "metadata": {},
   "outputs": [],
   "source": [
    "lgdata = pd.read_csv('twitchdata-update.csv', header = 'infer')"
   ]
  },
  {
   "cell_type": "code",
   "execution_count": 87,
   "metadata": {},
   "outputs": [
    {
     "data": {
      "text/html": [
       "<div>\n",
       "<style scoped>\n",
       "    .dataframe tbody tr th:only-of-type {\n",
       "        vertical-align: middle;\n",
       "    }\n",
       "\n",
       "    .dataframe tbody tr th {\n",
       "        vertical-align: top;\n",
       "    }\n",
       "\n",
       "    .dataframe thead th {\n",
       "        text-align: right;\n",
       "    }\n",
       "</style>\n",
       "<table border=\"1\" class=\"dataframe\">\n",
       "  <thead>\n",
       "    <tr style=\"text-align: right;\">\n",
       "      <th></th>\n",
       "      <th>0</th>\n",
       "      <th>1</th>\n",
       "      <th>2</th>\n",
       "      <th>3</th>\n",
       "      <th>4</th>\n",
       "      <th>5</th>\n",
       "      <th>6</th>\n",
       "      <th>7</th>\n",
       "      <th>8</th>\n",
       "      <th>9</th>\n",
       "      <th>10</th>\n",
       "      <th>11</th>\n",
       "      <th>12</th>\n",
       "      <th>13</th>\n",
       "      <th>14</th>\n",
       "      <th>15</th>\n",
       "      <th>16</th>\n",
       "      <th>17</th>\n",
       "      <th>18</th>\n",
       "      <th>19</th>\n",
       "    </tr>\n",
       "  </thead>\n",
       "  <tbody>\n",
       "    <tr>\n",
       "      <th>Channel</th>\n",
       "      <td>xQcOW</td>\n",
       "      <td>summit1g</td>\n",
       "      <td>Gaules</td>\n",
       "      <td>ESL_CSGO</td>\n",
       "      <td>Tfue</td>\n",
       "      <td>Asmongold</td>\n",
       "      <td>NICKMERCS</td>\n",
       "      <td>Fextralife</td>\n",
       "      <td>loltyler1</td>\n",
       "      <td>Anomaly</td>\n",
       "      <td>TimTheTatman</td>\n",
       "      <td>LIRIK</td>\n",
       "      <td>Riot Games (riotgames)</td>\n",
       "      <td>Rubius</td>\n",
       "      <td>auronplay</td>\n",
       "      <td>MontanaBlack88</td>\n",
       "      <td>sodapoppin</td>\n",
       "      <td>풍월량 (hanryang1125)</td>\n",
       "      <td>alanzoka</td>\n",
       "      <td>CohhCarnage</td>\n",
       "    </tr>\n",
       "    <tr>\n",
       "      <th>Watch time(Minutes)</th>\n",
       "      <td>6196161750</td>\n",
       "      <td>6091677300</td>\n",
       "      <td>5644590915</td>\n",
       "      <td>3970318140</td>\n",
       "      <td>3671000070</td>\n",
       "      <td>3668799075</td>\n",
       "      <td>3360675195</td>\n",
       "      <td>3301867485</td>\n",
       "      <td>2928356940</td>\n",
       "      <td>2865429915</td>\n",
       "      <td>2834436990</td>\n",
       "      <td>2832930285</td>\n",
       "      <td>2674646715</td>\n",
       "      <td>2588632635</td>\n",
       "      <td>2410022550</td>\n",
       "      <td>2408460990</td>\n",
       "      <td>2329440420</td>\n",
       "      <td>2186662470</td>\n",
       "      <td>2055003870</td>\n",
       "      <td>2029212570</td>\n",
       "    </tr>\n",
       "    <tr>\n",
       "      <th>Stream time(minutes)</th>\n",
       "      <td>215250</td>\n",
       "      <td>211845</td>\n",
       "      <td>515280</td>\n",
       "      <td>517740</td>\n",
       "      <td>123660</td>\n",
       "      <td>82260</td>\n",
       "      <td>136275</td>\n",
       "      <td>147885</td>\n",
       "      <td>122490</td>\n",
       "      <td>92880</td>\n",
       "      <td>108780</td>\n",
       "      <td>128490</td>\n",
       "      <td>80820</td>\n",
       "      <td>58275</td>\n",
       "      <td>40575</td>\n",
       "      <td>67740</td>\n",
       "      <td>115305</td>\n",
       "      <td>181230</td>\n",
       "      <td>103770</td>\n",
       "      <td>175230</td>\n",
       "    </tr>\n",
       "    <tr>\n",
       "      <th>Peak viewers</th>\n",
       "      <td>222720</td>\n",
       "      <td>310998</td>\n",
       "      <td>387315</td>\n",
       "      <td>300575</td>\n",
       "      <td>285644</td>\n",
       "      <td>263720</td>\n",
       "      <td>115633</td>\n",
       "      <td>68795</td>\n",
       "      <td>89387</td>\n",
       "      <td>125408</td>\n",
       "      <td>142067</td>\n",
       "      <td>89170</td>\n",
       "      <td>639375</td>\n",
       "      <td>240096</td>\n",
       "      <td>170115</td>\n",
       "      <td>181600</td>\n",
       "      <td>107833</td>\n",
       "      <td>26999</td>\n",
       "      <td>89153</td>\n",
       "      <td>43615</td>\n",
       "    </tr>\n",
       "    <tr>\n",
       "      <th>Average viewers</th>\n",
       "      <td>27716</td>\n",
       "      <td>25610</td>\n",
       "      <td>10976</td>\n",
       "      <td>7714</td>\n",
       "      <td>29602</td>\n",
       "      <td>42414</td>\n",
       "      <td>24181</td>\n",
       "      <td>18985</td>\n",
       "      <td>22381</td>\n",
       "      <td>12377</td>\n",
       "      <td>25664</td>\n",
       "      <td>21739</td>\n",
       "      <td>20960</td>\n",
       "      <td>42948</td>\n",
       "      <td>53986</td>\n",
       "      <td>33514</td>\n",
       "      <td>19659</td>\n",
       "      <td>12201</td>\n",
       "      <td>19560</td>\n",
       "      <td>11343</td>\n",
       "    </tr>\n",
       "    <tr>\n",
       "      <th>Followers</th>\n",
       "      <td>3246298</td>\n",
       "      <td>5310163</td>\n",
       "      <td>1767635</td>\n",
       "      <td>3944850</td>\n",
       "      <td>8938903</td>\n",
       "      <td>1563438</td>\n",
       "      <td>4074287</td>\n",
       "      <td>508816</td>\n",
       "      <td>3530767</td>\n",
       "      <td>2607076</td>\n",
       "      <td>5265659</td>\n",
       "      <td>2666382</td>\n",
       "      <td>4487489</td>\n",
       "      <td>5751354</td>\n",
       "      <td>3983847</td>\n",
       "      <td>2911316</td>\n",
       "      <td>2786162</td>\n",
       "      <td>494445</td>\n",
       "      <td>3445134</td>\n",
       "      <td>1264808</td>\n",
       "    </tr>\n",
       "    <tr>\n",
       "      <th>Followers gained</th>\n",
       "      <td>1734810</td>\n",
       "      <td>1370184</td>\n",
       "      <td>1023779</td>\n",
       "      <td>703986</td>\n",
       "      <td>2068424</td>\n",
       "      <td>554201</td>\n",
       "      <td>1089824</td>\n",
       "      <td>425468</td>\n",
       "      <td>951730</td>\n",
       "      <td>1532689</td>\n",
       "      <td>1244341</td>\n",
       "      <td>199077</td>\n",
       "      <td>497678</td>\n",
       "      <td>3820532</td>\n",
       "      <td>3966525</td>\n",
       "      <td>1101093</td>\n",
       "      <td>236169</td>\n",
       "      <td>92205</td>\n",
       "      <td>1325075</td>\n",
       "      <td>124242</td>\n",
       "    </tr>\n",
       "    <tr>\n",
       "      <th>Views gained</th>\n",
       "      <td>93036735</td>\n",
       "      <td>89705964</td>\n",
       "      <td>102611607</td>\n",
       "      <td>106546942</td>\n",
       "      <td>78998587</td>\n",
       "      <td>61715781</td>\n",
       "      <td>46084211</td>\n",
       "      <td>670137548</td>\n",
       "      <td>51349926</td>\n",
       "      <td>36350662</td>\n",
       "      <td>50119786</td>\n",
       "      <td>50504526</td>\n",
       "      <td>56855694</td>\n",
       "      <td>58599449</td>\n",
       "      <td>41514854</td>\n",
       "      <td>37189666</td>\n",
       "      <td>39334821</td>\n",
       "      <td>34405975</td>\n",
       "      <td>46515698</td>\n",
       "      <td>38718674</td>\n",
       "    </tr>\n",
       "    <tr>\n",
       "      <th>Partnered</th>\n",
       "      <td>True</td>\n",
       "      <td>True</td>\n",
       "      <td>True</td>\n",
       "      <td>True</td>\n",
       "      <td>True</td>\n",
       "      <td>True</td>\n",
       "      <td>True</td>\n",
       "      <td>True</td>\n",
       "      <td>True</td>\n",
       "      <td>True</td>\n",
       "      <td>True</td>\n",
       "      <td>True</td>\n",
       "      <td>True</td>\n",
       "      <td>True</td>\n",
       "      <td>True</td>\n",
       "      <td>True</td>\n",
       "      <td>True</td>\n",
       "      <td>True</td>\n",
       "      <td>True</td>\n",
       "      <td>True</td>\n",
       "    </tr>\n",
       "    <tr>\n",
       "      <th>Mature</th>\n",
       "      <td>False</td>\n",
       "      <td>False</td>\n",
       "      <td>True</td>\n",
       "      <td>False</td>\n",
       "      <td>False</td>\n",
       "      <td>False</td>\n",
       "      <td>False</td>\n",
       "      <td>False</td>\n",
       "      <td>False</td>\n",
       "      <td>False</td>\n",
       "      <td>True</td>\n",
       "      <td>False</td>\n",
       "      <td>False</td>\n",
       "      <td>False</td>\n",
       "      <td>False</td>\n",
       "      <td>True</td>\n",
       "      <td>True</td>\n",
       "      <td>False</td>\n",
       "      <td>False</td>\n",
       "      <td>False</td>\n",
       "    </tr>\n",
       "    <tr>\n",
       "      <th>Language</th>\n",
       "      <td>English</td>\n",
       "      <td>English</td>\n",
       "      <td>Portuguese</td>\n",
       "      <td>English</td>\n",
       "      <td>English</td>\n",
       "      <td>English</td>\n",
       "      <td>English</td>\n",
       "      <td>English</td>\n",
       "      <td>English</td>\n",
       "      <td>English</td>\n",
       "      <td>English</td>\n",
       "      <td>English</td>\n",
       "      <td>English</td>\n",
       "      <td>Spanish</td>\n",
       "      <td>Spanish</td>\n",
       "      <td>German</td>\n",
       "      <td>English</td>\n",
       "      <td>Korean</td>\n",
       "      <td>Portuguese</td>\n",
       "      <td>English</td>\n",
       "    </tr>\n",
       "  </tbody>\n",
       "</table>\n",
       "</div>"
      ],
      "text/plain": [
       "                              0           1           2           3   \\\n",
       "Channel                    xQcOW    summit1g      Gaules    ESL_CSGO   \n",
       "Watch time(Minutes)   6196161750  6091677300  5644590915  3970318140   \n",
       "Stream time(minutes)      215250      211845      515280      517740   \n",
       "Peak viewers              222720      310998      387315      300575   \n",
       "Average viewers            27716       25610       10976        7714   \n",
       "Followers                3246298     5310163     1767635     3944850   \n",
       "Followers gained         1734810     1370184     1023779      703986   \n",
       "Views gained            93036735    89705964   102611607   106546942   \n",
       "Partnered                   True        True        True        True   \n",
       "Mature                     False       False        True       False   \n",
       "Language                 English     English  Portuguese     English   \n",
       "\n",
       "                              4           5           6           7   \\\n",
       "Channel                     Tfue   Asmongold   NICKMERCS  Fextralife   \n",
       "Watch time(Minutes)   3671000070  3668799075  3360675195  3301867485   \n",
       "Stream time(minutes)      123660       82260      136275      147885   \n",
       "Peak viewers              285644      263720      115633       68795   \n",
       "Average viewers            29602       42414       24181       18985   \n",
       "Followers                8938903     1563438     4074287      508816   \n",
       "Followers gained         2068424      554201     1089824      425468   \n",
       "Views gained            78998587    61715781    46084211   670137548   \n",
       "Partnered                   True        True        True        True   \n",
       "Mature                     False       False       False       False   \n",
       "Language                 English     English     English     English   \n",
       "\n",
       "                              8           9             10          11  \\\n",
       "Channel                loltyler1     Anomaly  TimTheTatman       LIRIK   \n",
       "Watch time(Minutes)   2928356940  2865429915    2834436990  2832930285   \n",
       "Stream time(minutes)      122490       92880        108780      128490   \n",
       "Peak viewers               89387      125408        142067       89170   \n",
       "Average viewers            22381       12377         25664       21739   \n",
       "Followers                3530767     2607076       5265659     2666382   \n",
       "Followers gained          951730     1532689       1244341      199077   \n",
       "Views gained            51349926    36350662      50119786    50504526   \n",
       "Partnered                   True        True          True        True   \n",
       "Mature                     False       False          True       False   \n",
       "Language                 English     English       English     English   \n",
       "\n",
       "                                          12          13          14  \\\n",
       "Channel               Riot Games (riotgames)      Rubius   auronplay   \n",
       "Watch time(Minutes)               2674646715  2588632635  2410022550   \n",
       "Stream time(minutes)                   80820       58275       40575   \n",
       "Peak viewers                          639375      240096      170115   \n",
       "Average viewers                        20960       42948       53986   \n",
       "Followers                            4487489     5751354     3983847   \n",
       "Followers gained                      497678     3820532     3966525   \n",
       "Views gained                        56855694    58599449    41514854   \n",
       "Partnered                               True        True        True   \n",
       "Mature                                 False       False       False   \n",
       "Language                             English     Spanish     Spanish   \n",
       "\n",
       "                                  15          16                  17  \\\n",
       "Channel               MontanaBlack88  sodapoppin  풍월량 (hanryang1125)   \n",
       "Watch time(Minutes)       2408460990  2329440420          2186662470   \n",
       "Stream time(minutes)           67740      115305              181230   \n",
       "Peak viewers                  181600      107833               26999   \n",
       "Average viewers                33514       19659               12201   \n",
       "Followers                    2911316     2786162              494445   \n",
       "Followers gained             1101093      236169               92205   \n",
       "Views gained                37189666    39334821            34405975   \n",
       "Partnered                       True        True                True   \n",
       "Mature                          True        True               False   \n",
       "Language                      German     English              Korean   \n",
       "\n",
       "                              18           19  \n",
       "Channel                 alanzoka  CohhCarnage  \n",
       "Watch time(Minutes)   2055003870   2029212570  \n",
       "Stream time(minutes)      103770       175230  \n",
       "Peak viewers               89153        43615  \n",
       "Average viewers            19560        11343  \n",
       "Followers                3445134      1264808  \n",
       "Followers gained         1325075       124242  \n",
       "Views gained            46515698     38718674  \n",
       "Partnered                   True         True  \n",
       "Mature                     False        False  \n",
       "Language              Portuguese      English  "
      ]
     },
     "execution_count": 87,
     "metadata": {},
     "output_type": "execute_result"
    }
   ],
   "source": [
    "lgdata.head(20).T"
   ]
  },
  {
   "cell_type": "code",
   "execution_count": 88,
   "metadata": {},
   "outputs": [
    {
     "data": {
      "text/html": [
       "<div>\n",
       "<style scoped>\n",
       "    .dataframe tbody tr th:only-of-type {\n",
       "        vertical-align: middle;\n",
       "    }\n",
       "\n",
       "    .dataframe tbody tr th {\n",
       "        vertical-align: top;\n",
       "    }\n",
       "\n",
       "    .dataframe thead th {\n",
       "        text-align: right;\n",
       "    }\n",
       "</style>\n",
       "<table border=\"1\" class=\"dataframe\">\n",
       "  <thead>\n",
       "    <tr style=\"text-align: right;\">\n",
       "      <th></th>\n",
       "      <th>970</th>\n",
       "      <th>971</th>\n",
       "      <th>972</th>\n",
       "      <th>973</th>\n",
       "      <th>974</th>\n",
       "      <th>975</th>\n",
       "      <th>976</th>\n",
       "      <th>977</th>\n",
       "      <th>978</th>\n",
       "      <th>979</th>\n",
       "      <th>...</th>\n",
       "      <th>990</th>\n",
       "      <th>991</th>\n",
       "      <th>992</th>\n",
       "      <th>993</th>\n",
       "      <th>994</th>\n",
       "      <th>995</th>\n",
       "      <th>996</th>\n",
       "      <th>997</th>\n",
       "      <th>998</th>\n",
       "      <th>999</th>\n",
       "    </tr>\n",
       "  </thead>\n",
       "  <tbody>\n",
       "    <tr>\n",
       "      <th>Channel</th>\n",
       "      <td>mailand</td>\n",
       "      <td>Buozzi</td>\n",
       "      <td>HeyarTV</td>\n",
       "      <td>LenaGol0vach</td>\n",
       "      <td>Sinner666</td>\n",
       "      <td>TommyKayLIVE</td>\n",
       "      <td>TMemoryy</td>\n",
       "      <td>Patriota</td>\n",
       "      <td>러너교 (runner0608)</td>\n",
       "      <td>zorlaKOKA</td>\n",
       "      <td>...</td>\n",
       "      <td>KEEMSTAR</td>\n",
       "      <td>크캣66 (crazzyccat)</td>\n",
       "      <td>RelaxBeats</td>\n",
       "      <td>LAGTVMaximusBlack</td>\n",
       "      <td>Destructoid</td>\n",
       "      <td>LITkillah</td>\n",
       "      <td>빅헤드 (bighead033)</td>\n",
       "      <td>마스카 (newmasca)</td>\n",
       "      <td>AndyMilonakis</td>\n",
       "      <td>Remx</td>\n",
       "    </tr>\n",
       "    <tr>\n",
       "      <th>Watch time(Minutes)</th>\n",
       "      <td>124936395</td>\n",
       "      <td>124926540</td>\n",
       "      <td>124878165</td>\n",
       "      <td>124876665</td>\n",
       "      <td>124812240</td>\n",
       "      <td>124680810</td>\n",
       "      <td>124620795</td>\n",
       "      <td>124595820</td>\n",
       "      <td>124525605</td>\n",
       "      <td>124241010</td>\n",
       "      <td>...</td>\n",
       "      <td>123365895</td>\n",
       "      <td>123279435</td>\n",
       "      <td>123273930</td>\n",
       "      <td>123125340</td>\n",
       "      <td>122628630</td>\n",
       "      <td>122524635</td>\n",
       "      <td>122523705</td>\n",
       "      <td>122452320</td>\n",
       "      <td>122311065</td>\n",
       "      <td>122192850</td>\n",
       "    </tr>\n",
       "    <tr>\n",
       "      <th>Stream time(minutes)</th>\n",
       "      <td>86865</td>\n",
       "      <td>142785</td>\n",
       "      <td>155700</td>\n",
       "      <td>30210</td>\n",
       "      <td>24765</td>\n",
       "      <td>108105</td>\n",
       "      <td>130440</td>\n",
       "      <td>64305</td>\n",
       "      <td>52785</td>\n",
       "      <td>100050</td>\n",
       "      <td>...</td>\n",
       "      <td>3465</td>\n",
       "      <td>192780</td>\n",
       "      <td>521430</td>\n",
       "      <td>161535</td>\n",
       "      <td>103020</td>\n",
       "      <td>13560</td>\n",
       "      <td>153000</td>\n",
       "      <td>217410</td>\n",
       "      <td>104745</td>\n",
       "      <td>99180</td>\n",
       "    </tr>\n",
       "    <tr>\n",
       "      <th>Peak viewers</th>\n",
       "      <td>6867</td>\n",
       "      <td>4036</td>\n",
       "      <td>2343</td>\n",
       "      <td>9115</td>\n",
       "      <td>27996</td>\n",
       "      <td>3536</td>\n",
       "      <td>3244</td>\n",
       "      <td>29435</td>\n",
       "      <td>17926</td>\n",
       "      <td>4977</td>\n",
       "      <td>...</td>\n",
       "      <td>74195</td>\n",
       "      <td>2543</td>\n",
       "      <td>2830</td>\n",
       "      <td>7138</td>\n",
       "      <td>14566</td>\n",
       "      <td>21359</td>\n",
       "      <td>3940</td>\n",
       "      <td>6431</td>\n",
       "      <td>10543</td>\n",
       "      <td>13788</td>\n",
       "    </tr>\n",
       "    <tr>\n",
       "      <th>Average viewers</th>\n",
       "      <td>1400</td>\n",
       "      <td>872</td>\n",
       "      <td>786</td>\n",
       "      <td>4159</td>\n",
       "      <td>4530</td>\n",
       "      <td>1124</td>\n",
       "      <td>924</td>\n",
       "      <td>1951</td>\n",
       "      <td>2434</td>\n",
       "      <td>1247</td>\n",
       "      <td>...</td>\n",
       "      <td>35333</td>\n",
       "      <td>644</td>\n",
       "      <td>235</td>\n",
       "      <td>725</td>\n",
       "      <td>1190</td>\n",
       "      <td>9104</td>\n",
       "      <td>793</td>\n",
       "      <td>567</td>\n",
       "      <td>1153</td>\n",
       "      <td>1205</td>\n",
       "    </tr>\n",
       "    <tr>\n",
       "      <th>Followers</th>\n",
       "      <td>86561</td>\n",
       "      <td>75290</td>\n",
       "      <td>124479</td>\n",
       "      <td>274237</td>\n",
       "      <td>7102</td>\n",
       "      <td>127770</td>\n",
       "      <td>171107</td>\n",
       "      <td>646758</td>\n",
       "      <td>164902</td>\n",
       "      <td>361102</td>\n",
       "      <td>...</td>\n",
       "      <td>146035</td>\n",
       "      <td>35930</td>\n",
       "      <td>166162</td>\n",
       "      <td>256353</td>\n",
       "      <td>48007</td>\n",
       "      <td>601927</td>\n",
       "      <td>213212</td>\n",
       "      <td>109068</td>\n",
       "      <td>547446</td>\n",
       "      <td>178553</td>\n",
       "    </tr>\n",
       "    <tr>\n",
       "      <th>Followers gained</th>\n",
       "      <td>31605</td>\n",
       "      <td>39547</td>\n",
       "      <td>17695</td>\n",
       "      <td>40915</td>\n",
       "      <td>7101</td>\n",
       "      <td>58673</td>\n",
       "      <td>64750</td>\n",
       "      <td>344213</td>\n",
       "      <td>58988</td>\n",
       "      <td>83418</td>\n",
       "      <td>...</td>\n",
       "      <td>46367</td>\n",
       "      <td>24849</td>\n",
       "      <td>29595</td>\n",
       "      <td>13251</td>\n",
       "      <td>8995</td>\n",
       "      <td>562691</td>\n",
       "      <td>52289</td>\n",
       "      <td>-4942</td>\n",
       "      <td>109111</td>\n",
       "      <td>59432</td>\n",
       "    </tr>\n",
       "    <tr>\n",
       "      <th>Views gained</th>\n",
       "      <td>3923343</td>\n",
       "      <td>5126434</td>\n",
       "      <td>2506556</td>\n",
       "      <td>2969471</td>\n",
       "      <td>21322548</td>\n",
       "      <td>2561302</td>\n",
       "      <td>1027960</td>\n",
       "      <td>3707623</td>\n",
       "      <td>4276695</td>\n",
       "      <td>7654224</td>\n",
       "      <td>...</td>\n",
       "      <td>7139253</td>\n",
       "      <td>1889696</td>\n",
       "      <td>1094850</td>\n",
       "      <td>2310313</td>\n",
       "      <td>87603521</td>\n",
       "      <td>2162107</td>\n",
       "      <td>4399897</td>\n",
       "      <td>3417970</td>\n",
       "      <td>3926918</td>\n",
       "      <td>2049420</td>\n",
       "    </tr>\n",
       "    <tr>\n",
       "      <th>Partnered</th>\n",
       "      <td>True</td>\n",
       "      <td>True</td>\n",
       "      <td>True</td>\n",
       "      <td>False</td>\n",
       "      <td>False</td>\n",
       "      <td>True</td>\n",
       "      <td>True</td>\n",
       "      <td>True</td>\n",
       "      <td>False</td>\n",
       "      <td>True</td>\n",
       "      <td>...</td>\n",
       "      <td>False</td>\n",
       "      <td>True</td>\n",
       "      <td>True</td>\n",
       "      <td>True</td>\n",
       "      <td>True</td>\n",
       "      <td>True</td>\n",
       "      <td>True</td>\n",
       "      <td>True</td>\n",
       "      <td>True</td>\n",
       "      <td>True</td>\n",
       "    </tr>\n",
       "    <tr>\n",
       "      <th>Mature</th>\n",
       "      <td>True</td>\n",
       "      <td>True</td>\n",
       "      <td>True</td>\n",
       "      <td>False</td>\n",
       "      <td>False</td>\n",
       "      <td>True</td>\n",
       "      <td>False</td>\n",
       "      <td>False</td>\n",
       "      <td>False</td>\n",
       "      <td>False</td>\n",
       "      <td>...</td>\n",
       "      <td>False</td>\n",
       "      <td>False</td>\n",
       "      <td>False</td>\n",
       "      <td>True</td>\n",
       "      <td>False</td>\n",
       "      <td>False</td>\n",
       "      <td>False</td>\n",
       "      <td>False</td>\n",
       "      <td>False</td>\n",
       "      <td>False</td>\n",
       "    </tr>\n",
       "    <tr>\n",
       "      <th>Language</th>\n",
       "      <td>German</td>\n",
       "      <td>Portuguese</td>\n",
       "      <td>French</td>\n",
       "      <td>Russian</td>\n",
       "      <td>Russian</td>\n",
       "      <td>English</td>\n",
       "      <td>English</td>\n",
       "      <td>Portuguese</td>\n",
       "      <td>Korean</td>\n",
       "      <td>Portuguese</td>\n",
       "      <td>...</td>\n",
       "      <td>English</td>\n",
       "      <td>Korean</td>\n",
       "      <td>English</td>\n",
       "      <td>English</td>\n",
       "      <td>English</td>\n",
       "      <td>Spanish</td>\n",
       "      <td>Korean</td>\n",
       "      <td>Korean</td>\n",
       "      <td>English</td>\n",
       "      <td>French</td>\n",
       "    </tr>\n",
       "  </tbody>\n",
       "</table>\n",
       "<p>11 rows × 30 columns</p>\n",
       "</div>"
      ],
      "text/plain": [
       "                            970         971        972           973  \\\n",
       "Channel                 mailand      Buozzi    HeyarTV  LenaGol0vach   \n",
       "Watch time(Minutes)   124936395   124926540  124878165     124876665   \n",
       "Stream time(minutes)      86865      142785     155700         30210   \n",
       "Peak viewers               6867        4036       2343          9115   \n",
       "Average viewers            1400         872        786          4159   \n",
       "Followers                 86561       75290     124479        274237   \n",
       "Followers gained          31605       39547      17695         40915   \n",
       "Views gained            3923343     5126434    2506556       2969471   \n",
       "Partnered                  True        True       True         False   \n",
       "Mature                     True        True       True         False   \n",
       "Language                 German  Portuguese     French       Russian   \n",
       "\n",
       "                            974           975        976         977  \\\n",
       "Channel               Sinner666  TommyKayLIVE   TMemoryy    Patriota   \n",
       "Watch time(Minutes)   124812240     124680810  124620795   124595820   \n",
       "Stream time(minutes)      24765        108105     130440       64305   \n",
       "Peak viewers              27996          3536       3244       29435   \n",
       "Average viewers            4530          1124        924        1951   \n",
       "Followers                  7102        127770     171107      646758   \n",
       "Followers gained           7101         58673      64750      344213   \n",
       "Views gained           21322548       2561302    1027960     3707623   \n",
       "Partnered                 False          True       True        True   \n",
       "Mature                    False          True      False       False   \n",
       "Language                Russian       English    English  Portuguese   \n",
       "\n",
       "                                   978         979  ...        990  \\\n",
       "Channel               러너교 (runner0608)   zorlaKOKA  ...   KEEMSTAR   \n",
       "Watch time(Minutes)          124525605   124241010  ...  123365895   \n",
       "Stream time(minutes)             52785      100050  ...       3465   \n",
       "Peak viewers                     17926        4977  ...      74195   \n",
       "Average viewers                   2434        1247  ...      35333   \n",
       "Followers                       164902      361102  ...     146035   \n",
       "Followers gained                 58988       83418  ...      46367   \n",
       "Views gained                   4276695     7654224  ...    7139253   \n",
       "Partnered                        False        True  ...      False   \n",
       "Mature                           False       False  ...      False   \n",
       "Language                        Korean  Portuguese  ...    English   \n",
       "\n",
       "                                    991         992                993  \\\n",
       "Channel               크캣66 (crazzyccat)  RelaxBeats  LAGTVMaximusBlack   \n",
       "Watch time(Minutes)           123279435   123273930          123125340   \n",
       "Stream time(minutes)             192780      521430             161535   \n",
       "Peak viewers                       2543        2830               7138   \n",
       "Average viewers                     644         235                725   \n",
       "Followers                         35930      166162             256353   \n",
       "Followers gained                  24849       29595              13251   \n",
       "Views gained                    1889696     1094850            2310313   \n",
       "Partnered                          True        True               True   \n",
       "Mature                            False       False               True   \n",
       "Language                         Korean     English            English   \n",
       "\n",
       "                              994        995               996  \\\n",
       "Channel               Destructoid  LITkillah  빅헤드 (bighead033)   \n",
       "Watch time(Minutes)     122628630  122524635         122523705   \n",
       "Stream time(minutes)       103020      13560            153000   \n",
       "Peak viewers                14566      21359              3940   \n",
       "Average viewers              1190       9104               793   \n",
       "Followers                   48007     601927            213212   \n",
       "Followers gained             8995     562691             52289   \n",
       "Views gained             87603521    2162107           4399897   \n",
       "Partnered                    True       True              True   \n",
       "Mature                      False      False             False   \n",
       "Language                  English    Spanish            Korean   \n",
       "\n",
       "                                 997            998        999  \n",
       "Channel               마스카 (newmasca)  AndyMilonakis       Remx  \n",
       "Watch time(Minutes)        122452320      122311065  122192850  \n",
       "Stream time(minutes)          217410         104745      99180  \n",
       "Peak viewers                    6431          10543      13788  \n",
       "Average viewers                  567           1153       1205  \n",
       "Followers                     109068         547446     178553  \n",
       "Followers gained               -4942         109111      59432  \n",
       "Views gained                 3417970        3926918    2049420  \n",
       "Partnered                       True           True       True  \n",
       "Mature                         False          False      False  \n",
       "Language                      Korean        English     French  \n",
       "\n",
       "[11 rows x 30 columns]"
      ]
     },
     "execution_count": 88,
     "metadata": {},
     "output_type": "execute_result"
    }
   ],
   "source": [
    "lgdata.tail(30).T"
   ]
  },
  {
   "cell_type": "code",
   "execution_count": 89,
   "metadata": {},
   "outputs": [
    {
     "data": {
      "text/html": [
       "<div>\n",
       "<style scoped>\n",
       "    .dataframe tbody tr th:only-of-type {\n",
       "        vertical-align: middle;\n",
       "    }\n",
       "\n",
       "    .dataframe tbody tr th {\n",
       "        vertical-align: top;\n",
       "    }\n",
       "\n",
       "    .dataframe thead th {\n",
       "        text-align: right;\n",
       "    }\n",
       "</style>\n",
       "<table border=\"1\" class=\"dataframe\">\n",
       "  <thead>\n",
       "    <tr style=\"text-align: right;\">\n",
       "      <th></th>\n",
       "      <th>544</th>\n",
       "      <th>515</th>\n",
       "      <th>193</th>\n",
       "      <th>11</th>\n",
       "      <th>279</th>\n",
       "      <th>653</th>\n",
       "      <th>643</th>\n",
       "      <th>763</th>\n",
       "      <th>198</th>\n",
       "      <th>721</th>\n",
       "      <th>236</th>\n",
       "      <th>500</th>\n",
       "      <th>567</th>\n",
       "      <th>979</th>\n",
       "      <th>969</th>\n",
       "    </tr>\n",
       "  </thead>\n",
       "  <tbody>\n",
       "    <tr>\n",
       "      <th>Channel</th>\n",
       "      <td>bebe872</td>\n",
       "      <td>Sh4dowehhh</td>\n",
       "      <td>接接 (godjj)</td>\n",
       "      <td>LIRIK</td>\n",
       "      <td>shongxbong</td>\n",
       "      <td>Pengu</td>\n",
       "      <td>Broeki1</td>\n",
       "      <td>tebtv</td>\n",
       "      <td>울프 (lol_woolf)</td>\n",
       "      <td>RTGameCrowd</td>\n",
       "      <td>악어 (jdm2088)</td>\n",
       "      <td>ESL_SC2</td>\n",
       "      <td>LotharHS</td>\n",
       "      <td>zorlaKOKA</td>\n",
       "      <td>Robbaz</td>\n",
       "    </tr>\n",
       "    <tr>\n",
       "      <th>Watch time(Minutes)</th>\n",
       "      <td>217343400</td>\n",
       "      <td>229762950</td>\n",
       "      <td>544706325</td>\n",
       "      <td>2832930285</td>\n",
       "      <td>400635750</td>\n",
       "      <td>182358345</td>\n",
       "      <td>186562710</td>\n",
       "      <td>161468685</td>\n",
       "      <td>532969650</td>\n",
       "      <td>168832200</td>\n",
       "      <td>458883255</td>\n",
       "      <td>234726075</td>\n",
       "      <td>208564530</td>\n",
       "      <td>124241010</td>\n",
       "      <td>125249820</td>\n",
       "    </tr>\n",
       "    <tr>\n",
       "      <th>Stream time(minutes)</th>\n",
       "      <td>212205</td>\n",
       "      <td>112875</td>\n",
       "      <td>126705</td>\n",
       "      <td>128490</td>\n",
       "      <td>50310</td>\n",
       "      <td>70665</td>\n",
       "      <td>141675</td>\n",
       "      <td>69315</td>\n",
       "      <td>50910</td>\n",
       "      <td>38685</td>\n",
       "      <td>32625</td>\n",
       "      <td>278745</td>\n",
       "      <td>152235</td>\n",
       "      <td>100050</td>\n",
       "      <td>86415</td>\n",
       "    </tr>\n",
       "    <tr>\n",
       "      <th>Peak viewers</th>\n",
       "      <td>4965</td>\n",
       "      <td>11788</td>\n",
       "      <td>12461</td>\n",
       "      <td>89170</td>\n",
       "      <td>94869</td>\n",
       "      <td>7707</td>\n",
       "      <td>13091</td>\n",
       "      <td>13639</td>\n",
       "      <td>73800</td>\n",
       "      <td>20354</td>\n",
       "      <td>65622</td>\n",
       "      <td>40072</td>\n",
       "      <td>14561</td>\n",
       "      <td>4977</td>\n",
       "      <td>4938</td>\n",
       "    </tr>\n",
       "    <tr>\n",
       "      <th>Average viewers</th>\n",
       "      <td>1087</td>\n",
       "      <td>2012</td>\n",
       "      <td>4378</td>\n",
       "      <td>21739</td>\n",
       "      <td>7656</td>\n",
       "      <td>2452</td>\n",
       "      <td>1317</td>\n",
       "      <td>2177</td>\n",
       "      <td>9633</td>\n",
       "      <td>4259</td>\n",
       "      <td>15405</td>\n",
       "      <td>1414</td>\n",
       "      <td>898</td>\n",
       "      <td>1247</td>\n",
       "      <td>1427</td>\n",
       "    </tr>\n",
       "    <tr>\n",
       "      <th>Followers</th>\n",
       "      <td>70232</td>\n",
       "      <td>84234</td>\n",
       "      <td>331744</td>\n",
       "      <td>2666382</td>\n",
       "      <td>845158</td>\n",
       "      <td>775987</td>\n",
       "      <td>150944</td>\n",
       "      <td>76050</td>\n",
       "      <td>308528</td>\n",
       "      <td>861594</td>\n",
       "      <td>276488</td>\n",
       "      <td>305311</td>\n",
       "      <td>251812</td>\n",
       "      <td>361102</td>\n",
       "      <td>229652</td>\n",
       "    </tr>\n",
       "    <tr>\n",
       "      <th>Followers gained</th>\n",
       "      <td>51251</td>\n",
       "      <td>70619</td>\n",
       "      <td>19325</td>\n",
       "      <td>199077</td>\n",
       "      <td>671127</td>\n",
       "      <td>241309</td>\n",
       "      <td>25995</td>\n",
       "      <td>59909</td>\n",
       "      <td>141297</td>\n",
       "      <td>308499</td>\n",
       "      <td>132821</td>\n",
       "      <td>36130</td>\n",
       "      <td>136198</td>\n",
       "      <td>83418</td>\n",
       "      <td>23827</td>\n",
       "    </tr>\n",
       "    <tr>\n",
       "      <th>Views gained</th>\n",
       "      <td>2383295</td>\n",
       "      <td>6477747</td>\n",
       "      <td>20264128</td>\n",
       "      <td>50504526</td>\n",
       "      <td>4198232</td>\n",
       "      <td>5240516</td>\n",
       "      <td>4702541</td>\n",
       "      <td>10310607</td>\n",
       "      <td>9294132</td>\n",
       "      <td>3736356</td>\n",
       "      <td>5377506</td>\n",
       "      <td>5674624</td>\n",
       "      <td>6742783</td>\n",
       "      <td>7654224</td>\n",
       "      <td>5009610</td>\n",
       "    </tr>\n",
       "    <tr>\n",
       "      <th>Partnered</th>\n",
       "      <td>True</td>\n",
       "      <td>True</td>\n",
       "      <td>True</td>\n",
       "      <td>True</td>\n",
       "      <td>True</td>\n",
       "      <td>True</td>\n",
       "      <td>True</td>\n",
       "      <td>True</td>\n",
       "      <td>True</td>\n",
       "      <td>True</td>\n",
       "      <td>True</td>\n",
       "      <td>True</td>\n",
       "      <td>True</td>\n",
       "      <td>True</td>\n",
       "      <td>True</td>\n",
       "    </tr>\n",
       "    <tr>\n",
       "      <th>Mature</th>\n",
       "      <td>False</td>\n",
       "      <td>False</td>\n",
       "      <td>False</td>\n",
       "      <td>False</td>\n",
       "      <td>False</td>\n",
       "      <td>True</td>\n",
       "      <td>True</td>\n",
       "      <td>False</td>\n",
       "      <td>False</td>\n",
       "      <td>False</td>\n",
       "      <td>False</td>\n",
       "      <td>False</td>\n",
       "      <td>False</td>\n",
       "      <td>False</td>\n",
       "      <td>False</td>\n",
       "    </tr>\n",
       "    <tr>\n",
       "      <th>Language</th>\n",
       "      <td>English</td>\n",
       "      <td>Russian</td>\n",
       "      <td>Chinese</td>\n",
       "      <td>English</td>\n",
       "      <td>Arabic</td>\n",
       "      <td>English</td>\n",
       "      <td>German</td>\n",
       "      <td>English</td>\n",
       "      <td>Korean</td>\n",
       "      <td>English</td>\n",
       "      <td>Korean</td>\n",
       "      <td>English</td>\n",
       "      <td>Polish</td>\n",
       "      <td>Portuguese</td>\n",
       "      <td>English</td>\n",
       "    </tr>\n",
       "  </tbody>\n",
       "</table>\n",
       "</div>"
      ],
      "text/plain": [
       "                            544         515         193         11   \\\n",
       "Channel                 bebe872  Sh4dowehhh  接接 (godjj)       LIRIK   \n",
       "Watch time(Minutes)   217343400   229762950   544706325  2832930285   \n",
       "Stream time(minutes)     212205      112875      126705      128490   \n",
       "Peak viewers               4965       11788       12461       89170   \n",
       "Average viewers            1087        2012        4378       21739   \n",
       "Followers                 70232       84234      331744     2666382   \n",
       "Followers gained          51251       70619       19325      199077   \n",
       "Views gained            2383295     6477747    20264128    50504526   \n",
       "Partnered                  True        True        True        True   \n",
       "Mature                    False       False       False       False   \n",
       "Language                English     Russian     Chinese     English   \n",
       "\n",
       "                             279        653        643        763  \\\n",
       "Channel               shongxbong      Pengu    Broeki1      tebtv   \n",
       "Watch time(Minutes)    400635750  182358345  186562710  161468685   \n",
       "Stream time(minutes)       50310      70665     141675      69315   \n",
       "Peak viewers               94869       7707      13091      13639   \n",
       "Average viewers             7656       2452       1317       2177   \n",
       "Followers                 845158     775987     150944      76050   \n",
       "Followers gained          671127     241309      25995      59909   \n",
       "Views gained             4198232    5240516    4702541   10310607   \n",
       "Partnered                   True       True       True       True   \n",
       "Mature                     False       True       True      False   \n",
       "Language                  Arabic    English     German    English   \n",
       "\n",
       "                                 198          721           236        500  \\\n",
       "Channel               울프 (lol_woolf)  RTGameCrowd  악어 (jdm2088)    ESL_SC2   \n",
       "Watch time(Minutes)        532969650    168832200     458883255  234726075   \n",
       "Stream time(minutes)           50910        38685         32625     278745   \n",
       "Peak viewers                   73800        20354         65622      40072   \n",
       "Average viewers                 9633         4259         15405       1414   \n",
       "Followers                     308528       861594        276488     305311   \n",
       "Followers gained              141297       308499        132821      36130   \n",
       "Views gained                 9294132      3736356       5377506    5674624   \n",
       "Partnered                       True         True          True       True   \n",
       "Mature                         False        False         False      False   \n",
       "Language                      Korean      English        Korean    English   \n",
       "\n",
       "                            567         979        969  \n",
       "Channel                LotharHS   zorlaKOKA     Robbaz  \n",
       "Watch time(Minutes)   208564530   124241010  125249820  \n",
       "Stream time(minutes)     152235      100050      86415  \n",
       "Peak viewers              14561        4977       4938  \n",
       "Average viewers             898        1247       1427  \n",
       "Followers                251812      361102     229652  \n",
       "Followers gained         136198       83418      23827  \n",
       "Views gained            6742783     7654224    5009610  \n",
       "Partnered                  True        True       True  \n",
       "Mature                    False       False      False  \n",
       "Language                 Polish  Portuguese    English  "
      ]
     },
     "execution_count": 89,
     "metadata": {},
     "output_type": "execute_result"
    }
   ],
   "source": [
    "lgdata.sample(15).T"
   ]
  },
  {
   "cell_type": "code",
   "execution_count": 90,
   "metadata": {},
   "outputs": [
    {
     "data": {
      "text/plain": [
       "(1000, 11)"
      ]
     },
     "execution_count": 90,
     "metadata": {},
     "output_type": "execute_result"
    }
   ],
   "source": [
    "lgdata.shape"
   ]
  },
  {
   "cell_type": "code",
   "execution_count": 91,
   "metadata": {},
   "outputs": [
    {
     "data": {
      "text/plain": [
       "Index(['Channel', 'Watch time(Minutes)', 'Stream time(minutes)',\n",
       "       'Peak viewers', 'Average viewers', 'Followers', 'Followers gained',\n",
       "       'Views gained', 'Partnered', 'Mature', 'Language'],\n",
       "      dtype='object')"
      ]
     },
     "execution_count": 91,
     "metadata": {},
     "output_type": "execute_result"
    }
   ],
   "source": [
    "lgdata.columns"
   ]
  },
  {
   "cell_type": "code",
   "execution_count": 92,
   "metadata": {},
   "outputs": [
    {
     "data": {
      "text/html": [
       "<div>\n",
       "<style scoped>\n",
       "    .dataframe tbody tr th:only-of-type {\n",
       "        vertical-align: middle;\n",
       "    }\n",
       "\n",
       "    .dataframe tbody tr th {\n",
       "        vertical-align: top;\n",
       "    }\n",
       "\n",
       "    .dataframe thead th {\n",
       "        text-align: right;\n",
       "    }\n",
       "</style>\n",
       "<table border=\"1\" class=\"dataframe\">\n",
       "  <thead>\n",
       "    <tr style=\"text-align: right;\">\n",
       "      <th></th>\n",
       "      <th>Channel</th>\n",
       "      <th>Watch time(Minutes)</th>\n",
       "      <th>Stream time(minutes)</th>\n",
       "      <th>Peak viewers</th>\n",
       "      <th>Average viewers</th>\n",
       "      <th>Followers</th>\n",
       "      <th>Followers gained</th>\n",
       "      <th>Views gained</th>\n",
       "      <th>Partnered</th>\n",
       "      <th>Mature</th>\n",
       "      <th>Language</th>\n",
       "    </tr>\n",
       "  </thead>\n",
       "  <tbody>\n",
       "    <tr>\n",
       "      <th>0</th>\n",
       "      <td>xQcOW</td>\n",
       "      <td>6196161750</td>\n",
       "      <td>215250</td>\n",
       "      <td>222720</td>\n",
       "      <td>27716</td>\n",
       "      <td>3246298</td>\n",
       "      <td>1734810</td>\n",
       "      <td>93036735</td>\n",
       "      <td>True</td>\n",
       "      <td>False</td>\n",
       "      <td>English</td>\n",
       "    </tr>\n",
       "    <tr>\n",
       "      <th>1</th>\n",
       "      <td>summit1g</td>\n",
       "      <td>6091677300</td>\n",
       "      <td>211845</td>\n",
       "      <td>310998</td>\n",
       "      <td>25610</td>\n",
       "      <td>5310163</td>\n",
       "      <td>1370184</td>\n",
       "      <td>89705964</td>\n",
       "      <td>True</td>\n",
       "      <td>False</td>\n",
       "      <td>English</td>\n",
       "    </tr>\n",
       "    <tr>\n",
       "      <th>2</th>\n",
       "      <td>Gaules</td>\n",
       "      <td>5644590915</td>\n",
       "      <td>515280</td>\n",
       "      <td>387315</td>\n",
       "      <td>10976</td>\n",
       "      <td>1767635</td>\n",
       "      <td>1023779</td>\n",
       "      <td>102611607</td>\n",
       "      <td>True</td>\n",
       "      <td>True</td>\n",
       "      <td>Portuguese</td>\n",
       "    </tr>\n",
       "    <tr>\n",
       "      <th>3</th>\n",
       "      <td>ESL_CSGO</td>\n",
       "      <td>3970318140</td>\n",
       "      <td>517740</td>\n",
       "      <td>300575</td>\n",
       "      <td>7714</td>\n",
       "      <td>3944850</td>\n",
       "      <td>703986</td>\n",
       "      <td>106546942</td>\n",
       "      <td>True</td>\n",
       "      <td>False</td>\n",
       "      <td>English</td>\n",
       "    </tr>\n",
       "    <tr>\n",
       "      <th>4</th>\n",
       "      <td>Tfue</td>\n",
       "      <td>3671000070</td>\n",
       "      <td>123660</td>\n",
       "      <td>285644</td>\n",
       "      <td>29602</td>\n",
       "      <td>8938903</td>\n",
       "      <td>2068424</td>\n",
       "      <td>78998587</td>\n",
       "      <td>True</td>\n",
       "      <td>False</td>\n",
       "      <td>English</td>\n",
       "    </tr>\n",
       "    <tr>\n",
       "      <th>...</th>\n",
       "      <td>...</td>\n",
       "      <td>...</td>\n",
       "      <td>...</td>\n",
       "      <td>...</td>\n",
       "      <td>...</td>\n",
       "      <td>...</td>\n",
       "      <td>...</td>\n",
       "      <td>...</td>\n",
       "      <td>...</td>\n",
       "      <td>...</td>\n",
       "      <td>...</td>\n",
       "    </tr>\n",
       "    <tr>\n",
       "      <th>995</th>\n",
       "      <td>LITkillah</td>\n",
       "      <td>122524635</td>\n",
       "      <td>13560</td>\n",
       "      <td>21359</td>\n",
       "      <td>9104</td>\n",
       "      <td>601927</td>\n",
       "      <td>562691</td>\n",
       "      <td>2162107</td>\n",
       "      <td>True</td>\n",
       "      <td>False</td>\n",
       "      <td>Spanish</td>\n",
       "    </tr>\n",
       "    <tr>\n",
       "      <th>996</th>\n",
       "      <td>빅헤드 (bighead033)</td>\n",
       "      <td>122523705</td>\n",
       "      <td>153000</td>\n",
       "      <td>3940</td>\n",
       "      <td>793</td>\n",
       "      <td>213212</td>\n",
       "      <td>52289</td>\n",
       "      <td>4399897</td>\n",
       "      <td>True</td>\n",
       "      <td>False</td>\n",
       "      <td>Korean</td>\n",
       "    </tr>\n",
       "    <tr>\n",
       "      <th>997</th>\n",
       "      <td>마스카 (newmasca)</td>\n",
       "      <td>122452320</td>\n",
       "      <td>217410</td>\n",
       "      <td>6431</td>\n",
       "      <td>567</td>\n",
       "      <td>109068</td>\n",
       "      <td>-4942</td>\n",
       "      <td>3417970</td>\n",
       "      <td>True</td>\n",
       "      <td>False</td>\n",
       "      <td>Korean</td>\n",
       "    </tr>\n",
       "    <tr>\n",
       "      <th>998</th>\n",
       "      <td>AndyMilonakis</td>\n",
       "      <td>122311065</td>\n",
       "      <td>104745</td>\n",
       "      <td>10543</td>\n",
       "      <td>1153</td>\n",
       "      <td>547446</td>\n",
       "      <td>109111</td>\n",
       "      <td>3926918</td>\n",
       "      <td>True</td>\n",
       "      <td>False</td>\n",
       "      <td>English</td>\n",
       "    </tr>\n",
       "    <tr>\n",
       "      <th>999</th>\n",
       "      <td>Remx</td>\n",
       "      <td>122192850</td>\n",
       "      <td>99180</td>\n",
       "      <td>13788</td>\n",
       "      <td>1205</td>\n",
       "      <td>178553</td>\n",
       "      <td>59432</td>\n",
       "      <td>2049420</td>\n",
       "      <td>True</td>\n",
       "      <td>False</td>\n",
       "      <td>French</td>\n",
       "    </tr>\n",
       "  </tbody>\n",
       "</table>\n",
       "<p>1000 rows × 11 columns</p>\n",
       "</div>"
      ],
      "text/plain": [
       "              Channel  Watch time(Minutes)  Stream time(minutes)  \\\n",
       "0               xQcOW           6196161750                215250   \n",
       "1            summit1g           6091677300                211845   \n",
       "2              Gaules           5644590915                515280   \n",
       "3            ESL_CSGO           3970318140                517740   \n",
       "4                Tfue           3671000070                123660   \n",
       "..                ...                  ...                   ...   \n",
       "995         LITkillah            122524635                 13560   \n",
       "996  빅헤드 (bighead033)            122523705                153000   \n",
       "997    마스카 (newmasca)            122452320                217410   \n",
       "998     AndyMilonakis            122311065                104745   \n",
       "999              Remx            122192850                 99180   \n",
       "\n",
       "     Peak viewers  Average viewers  Followers  Followers gained  Views gained  \\\n",
       "0          222720            27716    3246298           1734810      93036735   \n",
       "1          310998            25610    5310163           1370184      89705964   \n",
       "2          387315            10976    1767635           1023779     102611607   \n",
       "3          300575             7714    3944850            703986     106546942   \n",
       "4          285644            29602    8938903           2068424      78998587   \n",
       "..            ...              ...        ...               ...           ...   \n",
       "995         21359             9104     601927            562691       2162107   \n",
       "996          3940              793     213212             52289       4399897   \n",
       "997          6431              567     109068             -4942       3417970   \n",
       "998         10543             1153     547446            109111       3926918   \n",
       "999         13788             1205     178553             59432       2049420   \n",
       "\n",
       "     Partnered  Mature    Language  \n",
       "0         True   False     English  \n",
       "1         True   False     English  \n",
       "2         True    True  Portuguese  \n",
       "3         True   False     English  \n",
       "4         True   False     English  \n",
       "..         ...     ...         ...  \n",
       "995       True   False     Spanish  \n",
       "996       True   False      Korean  \n",
       "997       True   False      Korean  \n",
       "998       True   False     English  \n",
       "999       True   False      French  \n",
       "\n",
       "[1000 rows x 11 columns]"
      ]
     },
     "execution_count": 92,
     "metadata": {},
     "output_type": "execute_result"
    }
   ],
   "source": [
    "lgdata\n"
   ]
  },
  {
   "cell_type": "code",
   "execution_count": 93,
   "metadata": {},
   "outputs": [
    {
     "data": {
      "text/plain": [
       "array(['English', 'Portuguese', 'Spanish', 'German', 'Korean', 'French',\n",
       "       'Russian', 'Japanese', 'Chinese', 'Czech', 'Turkish', 'Italian',\n",
       "       'Polish', 'Thai', 'Arabic', 'Slovak', 'Other', 'Hungarian',\n",
       "       'Greek', 'Finnish', 'Swedish'], dtype=object)"
      ]
     },
     "execution_count": 93,
     "metadata": {},
     "output_type": "execute_result"
    }
   ],
   "source": [
    "lgdata['Language'].unique()"
   ]
  },
  {
   "cell_type": "code",
   "execution_count": 94,
   "metadata": {},
   "outputs": [],
   "source": [
    "lgdata['Language'] = lgdata['Language'].replace(['Portuguese', 'Spanish', 'German', 'Korean', 'French',\n",
    "       'Russian', 'Japanese', 'Chinese', 'Czech', 'Turkish', 'Italian',\n",
    "       'Polish', 'Thai', 'Arabic', 'Slovak', 'Other', 'Hungarian',\n",
    "       'Greek', 'Finnish', 'Swedish'], 'Non-English')"
   ]
  },
  {
   "cell_type": "markdown",
   "metadata": {},
   "source": [
    "## The value 'Non-English' represents any language that isn't English, that is, it includes Portuguese, Spanish, German, Korean, French, Russian, Japanese, Chinese, Czech, Turkish, Italian, Polish, Thai, Arabic, Slovak, Other, Hungarian, Greek, Finnish and Swedish"
   ]
  },
  {
   "cell_type": "code",
   "execution_count": 95,
   "metadata": {},
   "outputs": [
    {
     "data": {
      "text/html": [
       "<div>\n",
       "<style scoped>\n",
       "    .dataframe tbody tr th:only-of-type {\n",
       "        vertical-align: middle;\n",
       "    }\n",
       "\n",
       "    .dataframe tbody tr th {\n",
       "        vertical-align: top;\n",
       "    }\n",
       "\n",
       "    .dataframe thead th {\n",
       "        text-align: right;\n",
       "    }\n",
       "</style>\n",
       "<table border=\"1\" class=\"dataframe\">\n",
       "  <thead>\n",
       "    <tr style=\"text-align: right;\">\n",
       "      <th></th>\n",
       "      <th>Channel</th>\n",
       "      <th>Watch time(Minutes)</th>\n",
       "      <th>Stream time(minutes)</th>\n",
       "      <th>Peak viewers</th>\n",
       "      <th>Average viewers</th>\n",
       "      <th>Followers</th>\n",
       "      <th>Followers gained</th>\n",
       "      <th>Views gained</th>\n",
       "      <th>Partnered</th>\n",
       "      <th>Mature</th>\n",
       "      <th>Language</th>\n",
       "    </tr>\n",
       "  </thead>\n",
       "  <tbody>\n",
       "    <tr>\n",
       "      <th>0</th>\n",
       "      <td>xQcOW</td>\n",
       "      <td>6196161750</td>\n",
       "      <td>215250</td>\n",
       "      <td>222720</td>\n",
       "      <td>27716</td>\n",
       "      <td>3246298</td>\n",
       "      <td>1734810</td>\n",
       "      <td>93036735</td>\n",
       "      <td>True</td>\n",
       "      <td>False</td>\n",
       "      <td>English</td>\n",
       "    </tr>\n",
       "    <tr>\n",
       "      <th>1</th>\n",
       "      <td>summit1g</td>\n",
       "      <td>6091677300</td>\n",
       "      <td>211845</td>\n",
       "      <td>310998</td>\n",
       "      <td>25610</td>\n",
       "      <td>5310163</td>\n",
       "      <td>1370184</td>\n",
       "      <td>89705964</td>\n",
       "      <td>True</td>\n",
       "      <td>False</td>\n",
       "      <td>English</td>\n",
       "    </tr>\n",
       "    <tr>\n",
       "      <th>2</th>\n",
       "      <td>Gaules</td>\n",
       "      <td>5644590915</td>\n",
       "      <td>515280</td>\n",
       "      <td>387315</td>\n",
       "      <td>10976</td>\n",
       "      <td>1767635</td>\n",
       "      <td>1023779</td>\n",
       "      <td>102611607</td>\n",
       "      <td>True</td>\n",
       "      <td>True</td>\n",
       "      <td>Non-English</td>\n",
       "    </tr>\n",
       "    <tr>\n",
       "      <th>3</th>\n",
       "      <td>ESL_CSGO</td>\n",
       "      <td>3970318140</td>\n",
       "      <td>517740</td>\n",
       "      <td>300575</td>\n",
       "      <td>7714</td>\n",
       "      <td>3944850</td>\n",
       "      <td>703986</td>\n",
       "      <td>106546942</td>\n",
       "      <td>True</td>\n",
       "      <td>False</td>\n",
       "      <td>English</td>\n",
       "    </tr>\n",
       "    <tr>\n",
       "      <th>4</th>\n",
       "      <td>Tfue</td>\n",
       "      <td>3671000070</td>\n",
       "      <td>123660</td>\n",
       "      <td>285644</td>\n",
       "      <td>29602</td>\n",
       "      <td>8938903</td>\n",
       "      <td>2068424</td>\n",
       "      <td>78998587</td>\n",
       "      <td>True</td>\n",
       "      <td>False</td>\n",
       "      <td>English</td>\n",
       "    </tr>\n",
       "    <tr>\n",
       "      <th>...</th>\n",
       "      <td>...</td>\n",
       "      <td>...</td>\n",
       "      <td>...</td>\n",
       "      <td>...</td>\n",
       "      <td>...</td>\n",
       "      <td>...</td>\n",
       "      <td>...</td>\n",
       "      <td>...</td>\n",
       "      <td>...</td>\n",
       "      <td>...</td>\n",
       "      <td>...</td>\n",
       "    </tr>\n",
       "    <tr>\n",
       "      <th>995</th>\n",
       "      <td>LITkillah</td>\n",
       "      <td>122524635</td>\n",
       "      <td>13560</td>\n",
       "      <td>21359</td>\n",
       "      <td>9104</td>\n",
       "      <td>601927</td>\n",
       "      <td>562691</td>\n",
       "      <td>2162107</td>\n",
       "      <td>True</td>\n",
       "      <td>False</td>\n",
       "      <td>Non-English</td>\n",
       "    </tr>\n",
       "    <tr>\n",
       "      <th>996</th>\n",
       "      <td>빅헤드 (bighead033)</td>\n",
       "      <td>122523705</td>\n",
       "      <td>153000</td>\n",
       "      <td>3940</td>\n",
       "      <td>793</td>\n",
       "      <td>213212</td>\n",
       "      <td>52289</td>\n",
       "      <td>4399897</td>\n",
       "      <td>True</td>\n",
       "      <td>False</td>\n",
       "      <td>Non-English</td>\n",
       "    </tr>\n",
       "    <tr>\n",
       "      <th>997</th>\n",
       "      <td>마스카 (newmasca)</td>\n",
       "      <td>122452320</td>\n",
       "      <td>217410</td>\n",
       "      <td>6431</td>\n",
       "      <td>567</td>\n",
       "      <td>109068</td>\n",
       "      <td>-4942</td>\n",
       "      <td>3417970</td>\n",
       "      <td>True</td>\n",
       "      <td>False</td>\n",
       "      <td>Non-English</td>\n",
       "    </tr>\n",
       "    <tr>\n",
       "      <th>998</th>\n",
       "      <td>AndyMilonakis</td>\n",
       "      <td>122311065</td>\n",
       "      <td>104745</td>\n",
       "      <td>10543</td>\n",
       "      <td>1153</td>\n",
       "      <td>547446</td>\n",
       "      <td>109111</td>\n",
       "      <td>3926918</td>\n",
       "      <td>True</td>\n",
       "      <td>False</td>\n",
       "      <td>English</td>\n",
       "    </tr>\n",
       "    <tr>\n",
       "      <th>999</th>\n",
       "      <td>Remx</td>\n",
       "      <td>122192850</td>\n",
       "      <td>99180</td>\n",
       "      <td>13788</td>\n",
       "      <td>1205</td>\n",
       "      <td>178553</td>\n",
       "      <td>59432</td>\n",
       "      <td>2049420</td>\n",
       "      <td>True</td>\n",
       "      <td>False</td>\n",
       "      <td>Non-English</td>\n",
       "    </tr>\n",
       "  </tbody>\n",
       "</table>\n",
       "<p>1000 rows × 11 columns</p>\n",
       "</div>"
      ],
      "text/plain": [
       "              Channel  Watch time(Minutes)  Stream time(minutes)  \\\n",
       "0               xQcOW           6196161750                215250   \n",
       "1            summit1g           6091677300                211845   \n",
       "2              Gaules           5644590915                515280   \n",
       "3            ESL_CSGO           3970318140                517740   \n",
       "4                Tfue           3671000070                123660   \n",
       "..                ...                  ...                   ...   \n",
       "995         LITkillah            122524635                 13560   \n",
       "996  빅헤드 (bighead033)            122523705                153000   \n",
       "997    마스카 (newmasca)            122452320                217410   \n",
       "998     AndyMilonakis            122311065                104745   \n",
       "999              Remx            122192850                 99180   \n",
       "\n",
       "     Peak viewers  Average viewers  Followers  Followers gained  Views gained  \\\n",
       "0          222720            27716    3246298           1734810      93036735   \n",
       "1          310998            25610    5310163           1370184      89705964   \n",
       "2          387315            10976    1767635           1023779     102611607   \n",
       "3          300575             7714    3944850            703986     106546942   \n",
       "4          285644            29602    8938903           2068424      78998587   \n",
       "..            ...              ...        ...               ...           ...   \n",
       "995         21359             9104     601927            562691       2162107   \n",
       "996          3940              793     213212             52289       4399897   \n",
       "997          6431              567     109068             -4942       3417970   \n",
       "998         10543             1153     547446            109111       3926918   \n",
       "999         13788             1205     178553             59432       2049420   \n",
       "\n",
       "     Partnered  Mature     Language  \n",
       "0         True   False      English  \n",
       "1         True   False      English  \n",
       "2         True    True  Non-English  \n",
       "3         True   False      English  \n",
       "4         True   False      English  \n",
       "..         ...     ...          ...  \n",
       "995       True   False  Non-English  \n",
       "996       True   False  Non-English  \n",
       "997       True   False  Non-English  \n",
       "998       True   False      English  \n",
       "999       True   False  Non-English  \n",
       "\n",
       "[1000 rows x 11 columns]"
      ]
     },
     "execution_count": 95,
     "metadata": {},
     "output_type": "execute_result"
    }
   ],
   "source": [
    "lgdata"
   ]
  },
  {
   "cell_type": "code",
   "execution_count": 96,
   "metadata": {},
   "outputs": [],
   "source": [
    "from collections import Counter"
   ]
  },
  {
   "cell_type": "code",
   "execution_count": 97,
   "metadata": {},
   "outputs": [],
   "source": [
    "classes = Counter(lgdata['Language'].values)"
   ]
  },
  {
   "cell_type": "code",
   "execution_count": 98,
   "metadata": {},
   "outputs": [
    {
     "data": {
      "text/plain": [
       "Counter({'English': 485, 'Non-English': 515})"
      ]
     },
     "execution_count": 98,
     "metadata": {},
     "output_type": "execute_result"
    }
   ],
   "source": [
    "classes"
   ]
  },
  {
   "cell_type": "markdown",
   "metadata": {},
   "source": [
    "# Create a dataframe to display the results"
   ]
  },
  {
   "cell_type": "code",
   "execution_count": 99,
   "metadata": {},
   "outputs": [],
   "source": [
    "class_dist = pd.DataFrame(classes.most_common(), columns=['Class','Num_Observations'])"
   ]
  },
  {
   "cell_type": "code",
   "execution_count": 100,
   "metadata": {},
   "outputs": [
    {
     "data": {
      "text/html": [
       "<div>\n",
       "<style scoped>\n",
       "    .dataframe tbody tr th:only-of-type {\n",
       "        vertical-align: middle;\n",
       "    }\n",
       "\n",
       "    .dataframe tbody tr th {\n",
       "        vertical-align: top;\n",
       "    }\n",
       "\n",
       "    .dataframe thead th {\n",
       "        text-align: right;\n",
       "    }\n",
       "</style>\n",
       "<table border=\"1\" class=\"dataframe\">\n",
       "  <thead>\n",
       "    <tr style=\"text-align: right;\">\n",
       "      <th></th>\n",
       "      <th>Class</th>\n",
       "      <th>Num_Observations</th>\n",
       "    </tr>\n",
       "  </thead>\n",
       "  <tbody>\n",
       "    <tr>\n",
       "      <th>0</th>\n",
       "      <td>Non-English</td>\n",
       "      <td>515</td>\n",
       "    </tr>\n",
       "    <tr>\n",
       "      <th>1</th>\n",
       "      <td>English</td>\n",
       "      <td>485</td>\n",
       "    </tr>\n",
       "  </tbody>\n",
       "</table>\n",
       "</div>"
      ],
      "text/plain": [
       "         Class  Num_Observations\n",
       "0  Non-English               515\n",
       "1      English               485"
      ]
     },
     "execution_count": 100,
     "metadata": {},
     "output_type": "execute_result"
    }
   ],
   "source": [
    "class_dist"
   ]
  },
  {
   "cell_type": "code",
   "execution_count": 101,
   "metadata": {},
   "outputs": [],
   "source": [
    "import matplotlib.pyplot as plt"
   ]
  },
  {
   "cell_type": "markdown",
   "metadata": {},
   "source": [
    "# Plots that are to appear in the notebook"
   ]
  },
  {
   "cell_type": "code",
   "execution_count": 102,
   "metadata": {},
   "outputs": [],
   "source": [
    "%matplotlib inline"
   ]
  },
  {
   "cell_type": "markdown",
   "metadata": {},
   "source": [
    "# Stylizing the Plot"
   ]
  },
  {
   "cell_type": "code",
   "execution_count": 103,
   "metadata": {},
   "outputs": [],
   "source": [
    "plt.style.use('ggplot')"
   ]
  },
  {
   "cell_type": "code",
   "execution_count": 104,
   "metadata": {},
   "outputs": [
    {
     "data": {
      "image/png": "[encoded data removed]",
      "text/plain": [
       "<Figure size 720x576 with 1 Axes>"
      ]
     },
     "metadata": {},
     "output_type": "display_data"
    }
   ],
   "source": [
    "subplot = class_dist.groupby('Class')['Num_Observations'].sum().plot(kind='barh', width=0.2, figsize=(10,8))\n",
    "subplot.set_title('Class distribution of the Languages Used', fontsize = 15)\n",
    "subplot.set_xlabel('Number of Observations', fontsize = 14)\n",
    "for i in subplot.patches:\n",
    "    subplot.text(i.get_width() + 0.1, i.get_y() + 0.1, str(i.get_width()), fontsize=11)"
   ]
  },
  {
   "cell_type": "markdown",
   "metadata": {},
   "source": [
    "# MIssing values are likely to create issues later on"
   ]
  },
  {
   "cell_type": "code",
   "execution_count": 105,
   "metadata": {},
   "outputs": [
    {
     "data": {
      "text/html": [
       "<div>\n",
       "<style scoped>\n",
       "    .dataframe tbody tr th:only-of-type {\n",
       "        vertical-align: middle;\n",
       "    }\n",
       "\n",
       "    .dataframe tbody tr th {\n",
       "        vertical-align: top;\n",
       "    }\n",
       "\n",
       "    .dataframe thead th {\n",
       "        text-align: right;\n",
       "    }\n",
       "</style>\n",
       "<table border=\"1\" class=\"dataframe\">\n",
       "  <thead>\n",
       "    <tr style=\"text-align: right;\">\n",
       "      <th></th>\n",
       "      <th>count</th>\n",
       "      <th>mean</th>\n",
       "      <th>std</th>\n",
       "      <th>min</th>\n",
       "      <th>25%</th>\n",
       "      <th>50%</th>\n",
       "      <th>75%</th>\n",
       "      <th>max</th>\n",
       "    </tr>\n",
       "  </thead>\n",
       "  <tbody>\n",
       "    <tr>\n",
       "      <th>Watch time(Minutes)</th>\n",
       "      <td>1000.0</td>\n",
       "      <td>4.184279e+08</td>\n",
       "      <td>5.496355e+08</td>\n",
       "      <td>122192850.0</td>\n",
       "      <td>1.631899e+08</td>\n",
       "      <td>234990787.5</td>\n",
       "      <td>4.337399e+08</td>\n",
       "      <td>6.196162e+09</td>\n",
       "    </tr>\n",
       "    <tr>\n",
       "      <th>Stream time(minutes)</th>\n",
       "      <td>1000.0</td>\n",
       "      <td>1.205152e+05</td>\n",
       "      <td>8.537620e+04</td>\n",
       "      <td>3465.0</td>\n",
       "      <td>7.375875e+04</td>\n",
       "      <td>108240.0</td>\n",
       "      <td>1.418438e+05</td>\n",
       "      <td>5.214450e+05</td>\n",
       "    </tr>\n",
       "    <tr>\n",
       "      <th>Peak viewers</th>\n",
       "      <td>1000.0</td>\n",
       "      <td>3.706505e+04</td>\n",
       "      <td>6.031431e+04</td>\n",
       "      <td>496.0</td>\n",
       "      <td>9.113750e+03</td>\n",
       "      <td>16676.0</td>\n",
       "      <td>3.756975e+04</td>\n",
       "      <td>6.393750e+05</td>\n",
       "    </tr>\n",
       "    <tr>\n",
       "      <th>Average viewers</th>\n",
       "      <td>1000.0</td>\n",
       "      <td>4.781040e+03</td>\n",
       "      <td>8.453685e+03</td>\n",
       "      <td>235.0</td>\n",
       "      <td>1.457750e+03</td>\n",
       "      <td>2425.0</td>\n",
       "      <td>4.786250e+03</td>\n",
       "      <td>1.476430e+05</td>\n",
       "    </tr>\n",
       "    <tr>\n",
       "      <th>Followers</th>\n",
       "      <td>1000.0</td>\n",
       "      <td>5.700541e+05</td>\n",
       "      <td>8.044134e+05</td>\n",
       "      <td>3660.0</td>\n",
       "      <td>1.705462e+05</td>\n",
       "      <td>318063.0</td>\n",
       "      <td>6.243322e+05</td>\n",
       "      <td>8.938903e+06</td>\n",
       "    </tr>\n",
       "    <tr>\n",
       "      <th>Followers gained</th>\n",
       "      <td>1000.0</td>\n",
       "      <td>2.055185e+05</td>\n",
       "      <td>3.399137e+05</td>\n",
       "      <td>-15772.0</td>\n",
       "      <td>4.375825e+04</td>\n",
       "      <td>98352.0</td>\n",
       "      <td>2.361308e+05</td>\n",
       "      <td>3.966525e+06</td>\n",
       "    </tr>\n",
       "    <tr>\n",
       "      <th>Views gained</th>\n",
       "      <td>1000.0</td>\n",
       "      <td>1.166817e+07</td>\n",
       "      <td>2.490572e+07</td>\n",
       "      <td>175788.0</td>\n",
       "      <td>3.880602e+06</td>\n",
       "      <td>6456323.5</td>\n",
       "      <td>1.219676e+07</td>\n",
       "      <td>6.701375e+08</td>\n",
       "    </tr>\n",
       "  </tbody>\n",
       "</table>\n",
       "</div>"
      ],
      "text/plain": [
       "                       count          mean           std          min  \\\n",
       "Watch time(Minutes)   1000.0  4.184279e+08  5.496355e+08  122192850.0   \n",
       "Stream time(minutes)  1000.0  1.205152e+05  8.537620e+04       3465.0   \n",
       "Peak viewers          1000.0  3.706505e+04  6.031431e+04        496.0   \n",
       "Average viewers       1000.0  4.781040e+03  8.453685e+03        235.0   \n",
       "Followers             1000.0  5.700541e+05  8.044134e+05       3660.0   \n",
       "Followers gained      1000.0  2.055185e+05  3.399137e+05     -15772.0   \n",
       "Views gained          1000.0  1.166817e+07  2.490572e+07     175788.0   \n",
       "\n",
       "                               25%          50%           75%           max  \n",
       "Watch time(Minutes)   1.631899e+08  234990787.5  4.337399e+08  6.196162e+09  \n",
       "Stream time(minutes)  7.375875e+04     108240.0  1.418438e+05  5.214450e+05  \n",
       "Peak viewers          9.113750e+03      16676.0  3.756975e+04  6.393750e+05  \n",
       "Average viewers       1.457750e+03       2425.0  4.786250e+03  1.476430e+05  \n",
       "Followers             1.705462e+05     318063.0  6.243322e+05  8.938903e+06  \n",
       "Followers gained      4.375825e+04      98352.0  2.361308e+05  3.966525e+06  \n",
       "Views gained          3.880602e+06    6456323.5  1.219676e+07  6.701375e+08  "
      ]
     },
     "execution_count": 105,
     "metadata": {},
     "output_type": "execute_result"
    }
   ],
   "source": [
    "lgdata.describe().T"
   ]
  },
  {
   "cell_type": "code",
   "execution_count": 106,
   "metadata": {},
   "outputs": [
    {
     "data": {
      "text/plain": [
       "<bound method DataFrame.info of               Channel  Watch time(Minutes)  Stream time(minutes)  \\\n",
       "0               xQcOW           6196161750                215250   \n",
       "1            summit1g           6091677300                211845   \n",
       "2              Gaules           5644590915                515280   \n",
       "3            ESL_CSGO           3970318140                517740   \n",
       "4                Tfue           3671000070                123660   \n",
       "..                ...                  ...                   ...   \n",
       "995         LITkillah            122524635                 13560   \n",
       "996  빅헤드 (bighead033)            122523705                153000   \n",
       "997    마스카 (newmasca)            122452320                217410   \n",
       "998     AndyMilonakis            122311065                104745   \n",
       "999              Remx            122192850                 99180   \n",
       "\n",
       "     Peak viewers  Average viewers  Followers  Followers gained  Views gained  \\\n",
       "0          222720            27716    3246298           1734810      93036735   \n",
       "1          310998            25610    5310163           1370184      89705964   \n",
       "2          387315            10976    1767635           1023779     102611607   \n",
       "3          300575             7714    3944850            703986     106546942   \n",
       "4          285644            29602    8938903           2068424      78998587   \n",
       "..            ...              ...        ...               ...           ...   \n",
       "995         21359             9104     601927            562691       2162107   \n",
       "996          3940              793     213212             52289       4399897   \n",
       "997          6431              567     109068             -4942       3417970   \n",
       "998         10543             1153     547446            109111       3926918   \n",
       "999         13788             1205     178553             59432       2049420   \n",
       "\n",
       "     Partnered  Mature     Language  \n",
       "0         True   False      English  \n",
       "1         True   False      English  \n",
       "2         True    True  Non-English  \n",
       "3         True   False      English  \n",
       "4         True   False      English  \n",
       "..         ...     ...          ...  \n",
       "995       True   False  Non-English  \n",
       "996       True   False  Non-English  \n",
       "997       True   False  Non-English  \n",
       "998       True   False      English  \n",
       "999       True   False  Non-English  \n",
       "\n",
       "[1000 rows x 11 columns]>"
      ]
     },
     "execution_count": 106,
     "metadata": {},
     "output_type": "execute_result"
    }
   ],
   "source": [
    "lgdata.info"
   ]
  },
  {
   "cell_type": "markdown",
   "metadata": {},
   "source": [
    "# The lack of missing values means we can proceed"
   ]
  },
  {
   "cell_type": "code",
   "execution_count": 107,
   "metadata": {},
   "outputs": [
    {
     "data": {
      "text/html": [
       "<div>\n",
       "<style scoped>\n",
       "    .dataframe tbody tr th:only-of-type {\n",
       "        vertical-align: middle;\n",
       "    }\n",
       "\n",
       "    .dataframe tbody tr th {\n",
       "        vertical-align: top;\n",
       "    }\n",
       "\n",
       "    .dataframe thead th {\n",
       "        text-align: right;\n",
       "    }\n",
       "</style>\n",
       "<table border=\"1\" class=\"dataframe\">\n",
       "  <thead>\n",
       "    <tr style=\"text-align: right;\">\n",
       "      <th></th>\n",
       "      <th>Channel</th>\n",
       "      <th>Watch time(Minutes)</th>\n",
       "      <th>Stream time(minutes)</th>\n",
       "      <th>Peak viewers</th>\n",
       "      <th>Average viewers</th>\n",
       "      <th>Followers</th>\n",
       "      <th>Followers gained</th>\n",
       "      <th>Views gained</th>\n",
       "      <th>Partnered</th>\n",
       "      <th>Mature</th>\n",
       "      <th>Language</th>\n",
       "    </tr>\n",
       "  </thead>\n",
       "  <tbody>\n",
       "    <tr>\n",
       "      <th>0</th>\n",
       "      <td>xQcOW</td>\n",
       "      <td>6196161750</td>\n",
       "      <td>215250</td>\n",
       "      <td>222720</td>\n",
       "      <td>27716</td>\n",
       "      <td>3246298</td>\n",
       "      <td>1734810</td>\n",
       "      <td>93036735</td>\n",
       "      <td>True</td>\n",
       "      <td>False</td>\n",
       "      <td>English</td>\n",
       "    </tr>\n",
       "    <tr>\n",
       "      <th>1</th>\n",
       "      <td>summit1g</td>\n",
       "      <td>6091677300</td>\n",
       "      <td>211845</td>\n",
       "      <td>310998</td>\n",
       "      <td>25610</td>\n",
       "      <td>5310163</td>\n",
       "      <td>1370184</td>\n",
       "      <td>89705964</td>\n",
       "      <td>True</td>\n",
       "      <td>False</td>\n",
       "      <td>English</td>\n",
       "    </tr>\n",
       "    <tr>\n",
       "      <th>2</th>\n",
       "      <td>Gaules</td>\n",
       "      <td>5644590915</td>\n",
       "      <td>515280</td>\n",
       "      <td>387315</td>\n",
       "      <td>10976</td>\n",
       "      <td>1767635</td>\n",
       "      <td>1023779</td>\n",
       "      <td>102611607</td>\n",
       "      <td>True</td>\n",
       "      <td>True</td>\n",
       "      <td>Non-English</td>\n",
       "    </tr>\n",
       "    <tr>\n",
       "      <th>3</th>\n",
       "      <td>ESL_CSGO</td>\n",
       "      <td>3970318140</td>\n",
       "      <td>517740</td>\n",
       "      <td>300575</td>\n",
       "      <td>7714</td>\n",
       "      <td>3944850</td>\n",
       "      <td>703986</td>\n",
       "      <td>106546942</td>\n",
       "      <td>True</td>\n",
       "      <td>False</td>\n",
       "      <td>English</td>\n",
       "    </tr>\n",
       "    <tr>\n",
       "      <th>4</th>\n",
       "      <td>Tfue</td>\n",
       "      <td>3671000070</td>\n",
       "      <td>123660</td>\n",
       "      <td>285644</td>\n",
       "      <td>29602</td>\n",
       "      <td>8938903</td>\n",
       "      <td>2068424</td>\n",
       "      <td>78998587</td>\n",
       "      <td>True</td>\n",
       "      <td>False</td>\n",
       "      <td>English</td>\n",
       "    </tr>\n",
       "    <tr>\n",
       "      <th>...</th>\n",
       "      <td>...</td>\n",
       "      <td>...</td>\n",
       "      <td>...</td>\n",
       "      <td>...</td>\n",
       "      <td>...</td>\n",
       "      <td>...</td>\n",
       "      <td>...</td>\n",
       "      <td>...</td>\n",
       "      <td>...</td>\n",
       "      <td>...</td>\n",
       "      <td>...</td>\n",
       "    </tr>\n",
       "    <tr>\n",
       "      <th>995</th>\n",
       "      <td>LITkillah</td>\n",
       "      <td>122524635</td>\n",
       "      <td>13560</td>\n",
       "      <td>21359</td>\n",
       "      <td>9104</td>\n",
       "      <td>601927</td>\n",
       "      <td>562691</td>\n",
       "      <td>2162107</td>\n",
       "      <td>True</td>\n",
       "      <td>False</td>\n",
       "      <td>Non-English</td>\n",
       "    </tr>\n",
       "    <tr>\n",
       "      <th>996</th>\n",
       "      <td>빅헤드 (bighead033)</td>\n",
       "      <td>122523705</td>\n",
       "      <td>153000</td>\n",
       "      <td>3940</td>\n",
       "      <td>793</td>\n",
       "      <td>213212</td>\n",
       "      <td>52289</td>\n",
       "      <td>4399897</td>\n",
       "      <td>True</td>\n",
       "      <td>False</td>\n",
       "      <td>Non-English</td>\n",
       "    </tr>\n",
       "    <tr>\n",
       "      <th>997</th>\n",
       "      <td>마스카 (newmasca)</td>\n",
       "      <td>122452320</td>\n",
       "      <td>217410</td>\n",
       "      <td>6431</td>\n",
       "      <td>567</td>\n",
       "      <td>109068</td>\n",
       "      <td>-4942</td>\n",
       "      <td>3417970</td>\n",
       "      <td>True</td>\n",
       "      <td>False</td>\n",
       "      <td>Non-English</td>\n",
       "    </tr>\n",
       "    <tr>\n",
       "      <th>998</th>\n",
       "      <td>AndyMilonakis</td>\n",
       "      <td>122311065</td>\n",
       "      <td>104745</td>\n",
       "      <td>10543</td>\n",
       "      <td>1153</td>\n",
       "      <td>547446</td>\n",
       "      <td>109111</td>\n",
       "      <td>3926918</td>\n",
       "      <td>True</td>\n",
       "      <td>False</td>\n",
       "      <td>English</td>\n",
       "    </tr>\n",
       "    <tr>\n",
       "      <th>999</th>\n",
       "      <td>Remx</td>\n",
       "      <td>122192850</td>\n",
       "      <td>99180</td>\n",
       "      <td>13788</td>\n",
       "      <td>1205</td>\n",
       "      <td>178553</td>\n",
       "      <td>59432</td>\n",
       "      <td>2049420</td>\n",
       "      <td>True</td>\n",
       "      <td>False</td>\n",
       "      <td>Non-English</td>\n",
       "    </tr>\n",
       "  </tbody>\n",
       "</table>\n",
       "<p>1000 rows × 11 columns</p>\n",
       "</div>"
      ],
      "text/plain": [
       "              Channel  Watch time(Minutes)  Stream time(minutes)  \\\n",
       "0               xQcOW           6196161750                215250   \n",
       "1            summit1g           6091677300                211845   \n",
       "2              Gaules           5644590915                515280   \n",
       "3            ESL_CSGO           3970318140                517740   \n",
       "4                Tfue           3671000070                123660   \n",
       "..                ...                  ...                   ...   \n",
       "995         LITkillah            122524635                 13560   \n",
       "996  빅헤드 (bighead033)            122523705                153000   \n",
       "997    마스카 (newmasca)            122452320                217410   \n",
       "998     AndyMilonakis            122311065                104745   \n",
       "999              Remx            122192850                 99180   \n",
       "\n",
       "     Peak viewers  Average viewers  Followers  Followers gained  Views gained  \\\n",
       "0          222720            27716    3246298           1734810      93036735   \n",
       "1          310998            25610    5310163           1370184      89705964   \n",
       "2          387315            10976    1767635           1023779     102611607   \n",
       "3          300575             7714    3944850            703986     106546942   \n",
       "4          285644            29602    8938903           2068424      78998587   \n",
       "..            ...              ...        ...               ...           ...   \n",
       "995         21359             9104     601927            562691       2162107   \n",
       "996          3940              793     213212             52289       4399897   \n",
       "997          6431              567     109068             -4942       3417970   \n",
       "998         10543             1153     547446            109111       3926918   \n",
       "999         13788             1205     178553             59432       2049420   \n",
       "\n",
       "     Partnered  Mature     Language  \n",
       "0         True   False      English  \n",
       "1         True   False      English  \n",
       "2         True    True  Non-English  \n",
       "3         True   False      English  \n",
       "4         True   False      English  \n",
       "..         ...     ...          ...  \n",
       "995       True   False  Non-English  \n",
       "996       True   False  Non-English  \n",
       "997       True   False  Non-English  \n",
       "998       True   False      English  \n",
       "999       True   False  Non-English  \n",
       "\n",
       "[1000 rows x 11 columns]"
      ]
     },
     "execution_count": 107,
     "metadata": {},
     "output_type": "execute_result"
    }
   ],
   "source": [
    "lgdata"
   ]
  },
  {
   "cell_type": "code",
   "execution_count": 108,
   "metadata": {},
   "outputs": [],
   "source": [
    "lgdata = lgdata.drop(['Channel','Watch time(Minutes)','Stream time(minutes)','Followers gained','Views gained','Followers gained','Views gained'], axis = 1)"
   ]
  },
  {
   "cell_type": "code",
   "execution_count": 109,
   "metadata": {},
   "outputs": [
    {
     "data": {
      "text/html": [
       "<div>\n",
       "<style scoped>\n",
       "    .dataframe tbody tr th:only-of-type {\n",
       "        vertical-align: middle;\n",
       "    }\n",
       "\n",
       "    .dataframe tbody tr th {\n",
       "        vertical-align: top;\n",
       "    }\n",
       "\n",
       "    .dataframe thead th {\n",
       "        text-align: right;\n",
       "    }\n",
       "</style>\n",
       "<table border=\"1\" class=\"dataframe\">\n",
       "  <thead>\n",
       "    <tr style=\"text-align: right;\">\n",
       "      <th></th>\n",
       "      <th>Peak viewers</th>\n",
       "      <th>Average viewers</th>\n",
       "      <th>Followers</th>\n",
       "      <th>Partnered</th>\n",
       "      <th>Mature</th>\n",
       "      <th>Language</th>\n",
       "    </tr>\n",
       "  </thead>\n",
       "  <tbody>\n",
       "    <tr>\n",
       "      <th>0</th>\n",
       "      <td>222720</td>\n",
       "      <td>27716</td>\n",
       "      <td>3246298</td>\n",
       "      <td>True</td>\n",
       "      <td>False</td>\n",
       "      <td>English</td>\n",
       "    </tr>\n",
       "    <tr>\n",
       "      <th>1</th>\n",
       "      <td>310998</td>\n",
       "      <td>25610</td>\n",
       "      <td>5310163</td>\n",
       "      <td>True</td>\n",
       "      <td>False</td>\n",
       "      <td>English</td>\n",
       "    </tr>\n",
       "    <tr>\n",
       "      <th>2</th>\n",
       "      <td>387315</td>\n",
       "      <td>10976</td>\n",
       "      <td>1767635</td>\n",
       "      <td>True</td>\n",
       "      <td>True</td>\n",
       "      <td>Non-English</td>\n",
       "    </tr>\n",
       "    <tr>\n",
       "      <th>3</th>\n",
       "      <td>300575</td>\n",
       "      <td>7714</td>\n",
       "      <td>3944850</td>\n",
       "      <td>True</td>\n",
       "      <td>False</td>\n",
       "      <td>English</td>\n",
       "    </tr>\n",
       "    <tr>\n",
       "      <th>4</th>\n",
       "      <td>285644</td>\n",
       "      <td>29602</td>\n",
       "      <td>8938903</td>\n",
       "      <td>True</td>\n",
       "      <td>False</td>\n",
       "      <td>English</td>\n",
       "    </tr>\n",
       "    <tr>\n",
       "      <th>...</th>\n",
       "      <td>...</td>\n",
       "      <td>...</td>\n",
       "      <td>...</td>\n",
       "      <td>...</td>\n",
       "      <td>...</td>\n",
       "      <td>...</td>\n",
       "    </tr>\n",
       "    <tr>\n",
       "      <th>995</th>\n",
       "      <td>21359</td>\n",
       "      <td>9104</td>\n",
       "      <td>601927</td>\n",
       "      <td>True</td>\n",
       "      <td>False</td>\n",
       "      <td>Non-English</td>\n",
       "    </tr>\n",
       "    <tr>\n",
       "      <th>996</th>\n",
       "      <td>3940</td>\n",
       "      <td>793</td>\n",
       "      <td>213212</td>\n",
       "      <td>True</td>\n",
       "      <td>False</td>\n",
       "      <td>Non-English</td>\n",
       "    </tr>\n",
       "    <tr>\n",
       "      <th>997</th>\n",
       "      <td>6431</td>\n",
       "      <td>567</td>\n",
       "      <td>109068</td>\n",
       "      <td>True</td>\n",
       "      <td>False</td>\n",
       "      <td>Non-English</td>\n",
       "    </tr>\n",
       "    <tr>\n",
       "      <th>998</th>\n",
       "      <td>10543</td>\n",
       "      <td>1153</td>\n",
       "      <td>547446</td>\n",
       "      <td>True</td>\n",
       "      <td>False</td>\n",
       "      <td>English</td>\n",
       "    </tr>\n",
       "    <tr>\n",
       "      <th>999</th>\n",
       "      <td>13788</td>\n",
       "      <td>1205</td>\n",
       "      <td>178553</td>\n",
       "      <td>True</td>\n",
       "      <td>False</td>\n",
       "      <td>Non-English</td>\n",
       "    </tr>\n",
       "  </tbody>\n",
       "</table>\n",
       "<p>1000 rows × 6 columns</p>\n",
       "</div>"
      ],
      "text/plain": [
       "     Peak viewers  Average viewers  Followers  Partnered  Mature     Language\n",
       "0          222720            27716    3246298       True   False      English\n",
       "1          310998            25610    5310163       True   False      English\n",
       "2          387315            10976    1767635       True    True  Non-English\n",
       "3          300575             7714    3944850       True   False      English\n",
       "4          285644            29602    8938903       True   False      English\n",
       "..            ...              ...        ...        ...     ...          ...\n",
       "995         21359             9104     601927       True   False  Non-English\n",
       "996          3940              793     213212       True   False  Non-English\n",
       "997          6431              567     109068       True   False  Non-English\n",
       "998         10543             1153     547446       True   False      English\n",
       "999         13788             1205     178553       True   False  Non-English\n",
       "\n",
       "[1000 rows x 6 columns]"
      ]
     },
     "execution_count": 109,
     "metadata": {},
     "output_type": "execute_result"
    }
   ],
   "source": [
    "lgdata"
   ]
  },
  {
   "cell_type": "code",
   "execution_count": 110,
   "metadata": {},
   "outputs": [
    {
     "data": {
      "text/html": [
       "<div>\n",
       "<style scoped>\n",
       "    .dataframe tbody tr th:only-of-type {\n",
       "        vertical-align: middle;\n",
       "    }\n",
       "\n",
       "    .dataframe tbody tr th {\n",
       "        vertical-align: top;\n",
       "    }\n",
       "\n",
       "    .dataframe thead th {\n",
       "        text-align: right;\n",
       "    }\n",
       "</style>\n",
       "<table border=\"1\" class=\"dataframe\">\n",
       "  <thead>\n",
       "    <tr style=\"text-align: right;\">\n",
       "      <th></th>\n",
       "      <th>0</th>\n",
       "      <th>1</th>\n",
       "      <th>2</th>\n",
       "      <th>3</th>\n",
       "      <th>4</th>\n",
       "    </tr>\n",
       "  </thead>\n",
       "  <tbody>\n",
       "    <tr>\n",
       "      <th>Peak viewers</th>\n",
       "      <td>222720</td>\n",
       "      <td>310998</td>\n",
       "      <td>387315</td>\n",
       "      <td>300575</td>\n",
       "      <td>285644</td>\n",
       "    </tr>\n",
       "    <tr>\n",
       "      <th>Average viewers</th>\n",
       "      <td>27716</td>\n",
       "      <td>25610</td>\n",
       "      <td>10976</td>\n",
       "      <td>7714</td>\n",
       "      <td>29602</td>\n",
       "    </tr>\n",
       "    <tr>\n",
       "      <th>Followers</th>\n",
       "      <td>3246298</td>\n",
       "      <td>5310163</td>\n",
       "      <td>1767635</td>\n",
       "      <td>3944850</td>\n",
       "      <td>8938903</td>\n",
       "    </tr>\n",
       "    <tr>\n",
       "      <th>Partnered</th>\n",
       "      <td>True</td>\n",
       "      <td>True</td>\n",
       "      <td>True</td>\n",
       "      <td>True</td>\n",
       "      <td>True</td>\n",
       "    </tr>\n",
       "    <tr>\n",
       "      <th>Mature</th>\n",
       "      <td>False</td>\n",
       "      <td>False</td>\n",
       "      <td>True</td>\n",
       "      <td>False</td>\n",
       "      <td>False</td>\n",
       "    </tr>\n",
       "    <tr>\n",
       "      <th>Language</th>\n",
       "      <td>English</td>\n",
       "      <td>English</td>\n",
       "      <td>Non-English</td>\n",
       "      <td>English</td>\n",
       "      <td>English</td>\n",
       "    </tr>\n",
       "  </tbody>\n",
       "</table>\n",
       "</div>"
      ],
      "text/plain": [
       "                       0        1            2        3        4\n",
       "Peak viewers      222720   310998       387315   300575   285644\n",
       "Average viewers    27716    25610        10976     7714    29602\n",
       "Followers        3246298  5310163      1767635  3944850  8938903\n",
       "Partnered           True     True         True     True     True\n",
       "Mature             False    False         True    False    False\n",
       "Language         English  English  Non-English  English  English"
      ]
     },
     "execution_count": 110,
     "metadata": {},
     "output_type": "execute_result"
    }
   ],
   "source": [
    "lgdata.head().T"
   ]
  },
  {
   "cell_type": "markdown",
   "metadata": {},
   "source": [
    "# Convert values to binary data"
   ]
  },
  {
   "cell_type": "code",
   "execution_count": 111,
   "metadata": {},
   "outputs": [],
   "source": [
    "lgdata['Mature'] = lgdata['Mature'].replace([True], 1)\n",
    "lgdata['Mature'] = lgdata['Mature'].replace([False], 0)"
   ]
  },
  {
   "cell_type": "markdown",
   "metadata": {},
   "source": [
    "A  1 represents a True and a 0 represents a False"
   ]
  },
  {
   "cell_type": "code",
   "execution_count": 112,
   "metadata": {},
   "outputs": [],
   "source": [
    "lgdata['Partnered'] = lgdata['Partnered'].replace([True], 1)\n",
    "lgdata['Partnered'] = lgdata['Partnered'].replace([False], 0)"
   ]
  },
  {
   "cell_type": "markdown",
   "metadata": {},
   "source": [
    "A  1 represents a True and a 0 represents a False"
   ]
  },
  {
   "cell_type": "code",
   "execution_count": 113,
   "metadata": {},
   "outputs": [],
   "source": [
    "lgdata['Language'] = lgdata['Language'].replace(['English'], 1)\n",
    "lgdata['Language'] = lgdata['Language'].replace(['Non-English'], 0)"
   ]
  },
  {
   "cell_type": "markdown",
   "metadata": {},
   "source": [
    "A 1 represents an English-speaking streamer  and 0 a non-English speaking streamer"
   ]
  },
  {
   "cell_type": "code",
   "execution_count": 114,
   "metadata": {},
   "outputs": [],
   "source": [
    "lgdata['Followers'].where(lgdata['Followers'] > 1000000, 0, inplace=True)\n",
    "lgdata['Followers'].where(lgdata['Followers'] <= 1000000, 1, inplace=True)"
   ]
  },
  {
   "cell_type": "markdown",
   "metadata": {},
   "source": [
    "A 1 represents values equal to or above 1,000,000 and 0 represents values lower than 1,000,000"
   ]
  },
  {
   "cell_type": "code",
   "execution_count": 115,
   "metadata": {},
   "outputs": [],
   "source": [
    "lgdata['Peak viewers'].where(lgdata['Peak viewers'] > 100000, 0, inplace=True)\n",
    "lgdata['Peak viewers'].where(lgdata['Peak viewers'] <= 100000, 1, inplace=True)"
   ]
  },
  {
   "cell_type": "markdown",
   "metadata": {},
   "source": [
    "A 1 represents values equal to or above 100,000 and 0 represents values lower than 100,000"
   ]
  },
  {
   "cell_type": "code",
   "execution_count": 116,
   "metadata": {},
   "outputs": [],
   "source": [
    "lgdata['Average viewers'].where(lgdata['Average viewers'] > 10000, 0, inplace=True)\n",
    "lgdata['Average viewers'].where(lgdata['Average viewers'] <= 10000, 1, inplace=True)"
   ]
  },
  {
   "cell_type": "markdown",
   "metadata": {},
   "source": [
    "A 1 represents values equal to or above 10,000 and 0 represents values lower than 10,000"
   ]
  },
  {
   "cell_type": "code",
   "execution_count": 117,
   "metadata": {},
   "outputs": [
    {
     "data": {
      "text/html": [
       "<div>\n",
       "<style scoped>\n",
       "    .dataframe tbody tr th:only-of-type {\n",
       "        vertical-align: middle;\n",
       "    }\n",
       "\n",
       "    .dataframe tbody tr th {\n",
       "        vertical-align: top;\n",
       "    }\n",
       "\n",
       "    .dataframe thead th {\n",
       "        text-align: right;\n",
       "    }\n",
       "</style>\n",
       "<table border=\"1\" class=\"dataframe\">\n",
       "  <thead>\n",
       "    <tr style=\"text-align: right;\">\n",
       "      <th></th>\n",
       "      <th>Peak viewers</th>\n",
       "      <th>Average viewers</th>\n",
       "      <th>Followers</th>\n",
       "      <th>Partnered</th>\n",
       "      <th>Mature</th>\n",
       "      <th>Language</th>\n",
       "    </tr>\n",
       "  </thead>\n",
       "  <tbody>\n",
       "    <tr>\n",
       "      <th>0</th>\n",
       "      <td>1</td>\n",
       "      <td>1</td>\n",
       "      <td>1</td>\n",
       "      <td>1</td>\n",
       "      <td>0</td>\n",
       "      <td>1</td>\n",
       "    </tr>\n",
       "    <tr>\n",
       "      <th>1</th>\n",
       "      <td>1</td>\n",
       "      <td>1</td>\n",
       "      <td>1</td>\n",
       "      <td>1</td>\n",
       "      <td>0</td>\n",
       "      <td>1</td>\n",
       "    </tr>\n",
       "    <tr>\n",
       "      <th>2</th>\n",
       "      <td>1</td>\n",
       "      <td>1</td>\n",
       "      <td>1</td>\n",
       "      <td>1</td>\n",
       "      <td>1</td>\n",
       "      <td>0</td>\n",
       "    </tr>\n",
       "    <tr>\n",
       "      <th>3</th>\n",
       "      <td>1</td>\n",
       "      <td>0</td>\n",
       "      <td>1</td>\n",
       "      <td>1</td>\n",
       "      <td>0</td>\n",
       "      <td>1</td>\n",
       "    </tr>\n",
       "    <tr>\n",
       "      <th>4</th>\n",
       "      <td>1</td>\n",
       "      <td>1</td>\n",
       "      <td>1</td>\n",
       "      <td>1</td>\n",
       "      <td>0</td>\n",
       "      <td>1</td>\n",
       "    </tr>\n",
       "    <tr>\n",
       "      <th>...</th>\n",
       "      <td>...</td>\n",
       "      <td>...</td>\n",
       "      <td>...</td>\n",
       "      <td>...</td>\n",
       "      <td>...</td>\n",
       "      <td>...</td>\n",
       "    </tr>\n",
       "    <tr>\n",
       "      <th>995</th>\n",
       "      <td>0</td>\n",
       "      <td>0</td>\n",
       "      <td>0</td>\n",
       "      <td>1</td>\n",
       "      <td>0</td>\n",
       "      <td>0</td>\n",
       "    </tr>\n",
       "    <tr>\n",
       "      <th>996</th>\n",
       "      <td>0</td>\n",
       "      <td>0</td>\n",
       "      <td>0</td>\n",
       "      <td>1</td>\n",
       "      <td>0</td>\n",
       "      <td>0</td>\n",
       "    </tr>\n",
       "    <tr>\n",
       "      <th>997</th>\n",
       "      <td>0</td>\n",
       "      <td>0</td>\n",
       "      <td>0</td>\n",
       "      <td>1</td>\n",
       "      <td>0</td>\n",
       "      <td>0</td>\n",
       "    </tr>\n",
       "    <tr>\n",
       "      <th>998</th>\n",
       "      <td>0</td>\n",
       "      <td>0</td>\n",
       "      <td>0</td>\n",
       "      <td>1</td>\n",
       "      <td>0</td>\n",
       "      <td>1</td>\n",
       "    </tr>\n",
       "    <tr>\n",
       "      <th>999</th>\n",
       "      <td>0</td>\n",
       "      <td>0</td>\n",
       "      <td>0</td>\n",
       "      <td>1</td>\n",
       "      <td>0</td>\n",
       "      <td>0</td>\n",
       "    </tr>\n",
       "  </tbody>\n",
       "</table>\n",
       "<p>1000 rows × 6 columns</p>\n",
       "</div>"
      ],
      "text/plain": [
       "     Peak viewers  Average viewers  Followers  Partnered  Mature  Language\n",
       "0               1                1          1          1       0         1\n",
       "1               1                1          1          1       0         1\n",
       "2               1                1          1          1       1         0\n",
       "3               1                0          1          1       0         1\n",
       "4               1                1          1          1       0         1\n",
       "..            ...              ...        ...        ...     ...       ...\n",
       "995             0                0          0          1       0         0\n",
       "996             0                0          0          1       0         0\n",
       "997             0                0          0          1       0         0\n",
       "998             0                0          0          1       0         1\n",
       "999             0                0          0          1       0         0\n",
       "\n",
       "[1000 rows x 6 columns]"
      ]
     },
     "execution_count": 117,
     "metadata": {},
     "output_type": "execute_result"
    }
   ],
   "source": [
    "lgdata"
   ]
  },
  {
   "cell_type": "code",
   "execution_count": 118,
   "metadata": {},
   "outputs": [
    {
     "data": {
      "text/html": [
       "<div>\n",
       "<style scoped>\n",
       "    .dataframe tbody tr th:only-of-type {\n",
       "        vertical-align: middle;\n",
       "    }\n",
       "\n",
       "    .dataframe tbody tr th {\n",
       "        vertical-align: top;\n",
       "    }\n",
       "\n",
       "    .dataframe thead th {\n",
       "        text-align: right;\n",
       "    }\n",
       "</style>\n",
       "<table border=\"1\" class=\"dataframe\">\n",
       "  <thead>\n",
       "    <tr style=\"text-align: right;\">\n",
       "      <th></th>\n",
       "      <th>0</th>\n",
       "      <th>1</th>\n",
       "      <th>2</th>\n",
       "      <th>3</th>\n",
       "      <th>4</th>\n",
       "    </tr>\n",
       "  </thead>\n",
       "  <tbody>\n",
       "    <tr>\n",
       "      <th>Peak viewers</th>\n",
       "      <td>1</td>\n",
       "      <td>1</td>\n",
       "      <td>1</td>\n",
       "      <td>1</td>\n",
       "      <td>1</td>\n",
       "    </tr>\n",
       "    <tr>\n",
       "      <th>Average viewers</th>\n",
       "      <td>1</td>\n",
       "      <td>1</td>\n",
       "      <td>1</td>\n",
       "      <td>0</td>\n",
       "      <td>1</td>\n",
       "    </tr>\n",
       "    <tr>\n",
       "      <th>Followers</th>\n",
       "      <td>1</td>\n",
       "      <td>1</td>\n",
       "      <td>1</td>\n",
       "      <td>1</td>\n",
       "      <td>1</td>\n",
       "    </tr>\n",
       "    <tr>\n",
       "      <th>Partnered</th>\n",
       "      <td>1</td>\n",
       "      <td>1</td>\n",
       "      <td>1</td>\n",
       "      <td>1</td>\n",
       "      <td>1</td>\n",
       "    </tr>\n",
       "    <tr>\n",
       "      <th>Mature</th>\n",
       "      <td>0</td>\n",
       "      <td>0</td>\n",
       "      <td>1</td>\n",
       "      <td>0</td>\n",
       "      <td>0</td>\n",
       "    </tr>\n",
       "    <tr>\n",
       "      <th>Language</th>\n",
       "      <td>1</td>\n",
       "      <td>1</td>\n",
       "      <td>0</td>\n",
       "      <td>1</td>\n",
       "      <td>1</td>\n",
       "    </tr>\n",
       "  </tbody>\n",
       "</table>\n",
       "</div>"
      ],
      "text/plain": [
       "                 0  1  2  3  4\n",
       "Peak viewers     1  1  1  1  1\n",
       "Average viewers  1  1  1  0  1\n",
       "Followers        1  1  1  1  1\n",
       "Partnered        1  1  1  1  1\n",
       "Mature           0  0  1  0  0\n",
       "Language         1  1  0  1  1"
      ]
     },
     "execution_count": 118,
     "metadata": {},
     "output_type": "execute_result"
    }
   ],
   "source": [
    "lgdata.head().T"
   ]
  },
  {
   "cell_type": "code",
   "execution_count": 119,
   "metadata": {},
   "outputs": [
    {
     "data": {
      "text/plain": [
       "<bound method Series.unique of 0      1\n",
       "1      1\n",
       "2      1\n",
       "3      1\n",
       "4      1\n",
       "      ..\n",
       "995    0\n",
       "996    0\n",
       "997    0\n",
       "998    0\n",
       "999    0\n",
       "Name: Followers, Length: 1000, dtype: int64>"
      ]
     },
     "execution_count": 119,
     "metadata": {},
     "output_type": "execute_result"
    }
   ],
   "source": [
    "lgdata['Followers'].unique"
   ]
  },
  {
   "cell_type": "code",
   "execution_count": 120,
   "metadata": {},
   "outputs": [
    {
     "data": {
      "text/plain": [
       "Peak viewers       0\n",
       "Average viewers    0\n",
       "Followers          0\n",
       "Partnered          0\n",
       "Mature             0\n",
       "Language           0\n",
       "dtype: int64"
      ]
     },
     "execution_count": 120,
     "metadata": {},
     "output_type": "execute_result"
    }
   ],
   "source": [
    "lgdata.isna().sum()"
   ]
  },
  {
   "cell_type": "markdown",
   "metadata": {},
   "source": [
    "# Split the Dataset in accordance with the 80:20 rule"
   ]
  },
  {
   "cell_type": "code",
   "execution_count": 121,
   "metadata": {},
   "outputs": [],
   "source": [
    "from sklearn.model_selection import train_test_split"
   ]
  },
  {
   "cell_type": "code",
   "execution_count": 122,
   "metadata": {},
   "outputs": [],
   "source": [
    "X=lgdata.iloc[:,0:30].values.astype(int)"
   ]
  },
  {
   "cell_type": "code",
   "execution_count": 123,
   "metadata": {},
   "outputs": [
    {
     "data": {
      "text/plain": [
       "array([[1, 1, 1, 1, 0, 1],\n",
       "       [1, 1, 1, 1, 0, 1],\n",
       "       [1, 1, 1, 1, 1, 0],\n",
       "       ...,\n",
       "       [0, 0, 0, 1, 0, 0],\n",
       "       [0, 0, 0, 1, 0, 1],\n",
       "       [0, 0, 0, 1, 0, 0]])"
      ]
     },
     "execution_count": 123,
     "metadata": {},
     "output_type": "execute_result"
    }
   ],
   "source": [
    "X"
   ]
  },
  {
   "cell_type": "code",
   "execution_count": 124,
   "metadata": {},
   "outputs": [],
   "source": [
    "y=lgdata.iloc[:,5].values.astype(int)"
   ]
  },
  {
   "cell_type": "code",
   "execution_count": 125,
   "metadata": {},
   "outputs": [
    {
     "data": {
      "text/plain": [
       "array([1, 1, 0, 1, 1, 1, 1, 1, 1, 1, 1, 1, 1, 0, 0, 0, 1, 0, 0, 1, 1, 0,\n",
       "       1, 1, 0, 0, 0, 1, 0, 1, 0, 0, 1, 1, 0, 1, 0, 1, 1, 0, 1, 1, 1, 0,\n",
       "       1, 0, 1, 1, 1, 1, 0, 1, 1, 0, 1, 1, 0, 0, 0, 0, 0, 1, 1, 1, 0, 1,\n",
       "       1, 1, 0, 0, 1, 1, 0, 1, 1, 1, 1, 1, 0, 1, 1, 1, 0, 1, 0, 0, 1, 1,\n",
       "       0, 1, 1, 0, 0, 1, 1, 1, 1, 0, 0, 1, 0, 0, 0, 0, 1, 0, 0, 0, 0, 0,\n",
       "       0, 1, 1, 1, 1, 1, 0, 1, 1, 1, 0, 0, 1, 1, 0, 0, 0, 0, 1, 0, 0, 1,\n",
       "       0, 1, 1, 1, 1, 0, 1, 0, 1, 0, 1, 0, 0, 0, 0, 0, 1, 1, 0, 0, 1, 1,\n",
       "       0, 1, 0, 0, 0, 0, 0, 0, 1, 1, 0, 1, 1, 0, 1, 1, 0, 0, 1, 0, 0, 1,\n",
       "       0, 0, 1, 1, 0, 1, 1, 1, 1, 0, 1, 0, 0, 1, 0, 0, 1, 0, 1, 0, 1, 1,\n",
       "       0, 0, 0, 1, 1, 1, 1, 1, 1, 1, 0, 1, 1, 1, 1, 1, 1, 0, 1, 0, 1, 0,\n",
       "       1, 0, 1, 0, 0, 1, 0, 0, 1, 1, 0, 0, 0, 1, 1, 1, 0, 1, 1, 0, 1, 0,\n",
       "       0, 1, 1, 1, 1, 0, 0, 0, 1, 1, 0, 0, 1, 1, 0, 0, 1, 1, 0, 1, 1, 1,\n",
       "       1, 1, 0, 1, 1, 0, 1, 1, 0, 1, 1, 0, 0, 0, 1, 0, 1, 1, 0, 1, 0, 1,\n",
       "       1, 0, 1, 1, 1, 0, 1, 1, 1, 0, 1, 0, 0, 0, 1, 1, 1, 1, 0, 0, 0, 1,\n",
       "       0, 0, 1, 0, 0, 1, 0, 1, 1, 0, 0, 0, 0, 0, 0, 1, 0, 0, 1, 0, 0, 1,\n",
       "       0, 0, 1, 0, 1, 1, 0, 1, 0, 1, 0, 0, 0, 1, 0, 1, 1, 0, 1, 0, 0, 1,\n",
       "       1, 0, 1, 1, 0, 0, 0, 0, 1, 0, 0, 1, 1, 0, 0, 0, 1, 0, 0, 1, 1, 0,\n",
       "       1, 0, 0, 0, 0, 1, 0, 1, 0, 0, 0, 1, 1, 1, 0, 1, 1, 0, 1, 0, 1, 1,\n",
       "       1, 1, 0, 0, 1, 1, 0, 0, 1, 0, 0, 1, 0, 0, 1, 1, 0, 1, 0, 0, 0, 1,\n",
       "       0, 1, 0, 1, 1, 1, 1, 1, 1, 1, 0, 0, 1, 1, 0, 0, 1, 0, 1, 1, 1, 0,\n",
       "       0, 0, 0, 0, 1, 1, 0, 0, 1, 0, 1, 1, 0, 1, 0, 1, 0, 0, 1, 1, 0, 0,\n",
       "       1, 1, 0, 0, 0, 1, 0, 1, 1, 0, 1, 1, 0, 0, 1, 1, 1, 1, 0, 1, 1, 0,\n",
       "       0, 0, 1, 0, 1, 1, 0, 1, 0, 0, 0, 0, 0, 0, 1, 1, 1, 0, 0, 1, 0, 1,\n",
       "       1, 0, 0, 1, 1, 0, 1, 0, 0, 0, 1, 1, 0, 1, 0, 0, 0, 1, 1, 1, 1, 0,\n",
       "       0, 1, 0, 0, 0, 0, 0, 0, 0, 1, 1, 1, 1, 1, 0, 0, 1, 0, 0, 1, 1, 1,\n",
       "       1, 0, 1, 0, 0, 1, 0, 0, 0, 1, 1, 1, 0, 0, 0, 0, 1, 0, 0, 0, 1, 1,\n",
       "       0, 0, 0, 0, 1, 0, 1, 0, 0, 1, 0, 1, 1, 0, 0, 1, 0, 0, 0, 1, 1, 0,\n",
       "       1, 1, 1, 1, 1, 0, 0, 0, 0, 1, 0, 1, 0, 1, 0, 1, 0, 0, 1, 1, 0, 0,\n",
       "       1, 0, 1, 1, 0, 1, 1, 0, 0, 1, 0, 0, 0, 0, 0, 1, 1, 0, 0, 0, 0, 1,\n",
       "       1, 0, 0, 1, 0, 0, 1, 0, 1, 0, 1, 1, 1, 0, 0, 1, 0, 0, 1, 0, 1, 1,\n",
       "       1, 0, 1, 0, 0, 1, 1, 0, 0, 0, 1, 0, 0, 0, 1, 0, 0, 1, 1, 1, 1, 0,\n",
       "       0, 1, 0, 0, 1, 0, 0, 1, 1, 1, 0, 1, 1, 0, 0, 0, 0, 0, 0, 0, 0, 0,\n",
       "       0, 0, 0, 0, 0, 1, 1, 0, 0, 1, 1, 0, 1, 1, 0, 1, 1, 1, 0, 1, 0, 0,\n",
       "       1, 1, 1, 1, 0, 1, 0, 1, 0, 1, 0, 1, 1, 0, 0, 0, 1, 0, 1, 0, 1, 0,\n",
       "       1, 0, 0, 0, 0, 0, 1, 1, 1, 1, 0, 0, 1, 0, 1, 1, 0, 0, 1, 0, 0, 0,\n",
       "       1, 1, 0, 0, 1, 1, 1, 1, 1, 1, 0, 0, 1, 1, 0, 1, 1, 0, 0, 0, 0, 0,\n",
       "       1, 1, 1, 0, 0, 0, 0, 1, 0, 0, 0, 0, 1, 1, 0, 0, 0, 0, 0, 0, 0, 0,\n",
       "       0, 0, 1, 1, 0, 1, 0, 0, 1, 1, 0, 0, 0, 0, 1, 1, 1, 1, 0, 1, 1, 1,\n",
       "       0, 1, 1, 1, 1, 0, 0, 1, 0, 0, 0, 0, 1, 1, 1, 0, 0, 1, 1, 0, 1, 1,\n",
       "       1, 1, 0, 1, 1, 1, 1, 0, 0, 0, 0, 1, 0, 0, 0, 0, 0, 0, 0, 1, 0, 1,\n",
       "       0, 0, 0, 1, 0, 1, 0, 0, 0, 1, 0, 1, 1, 1, 0, 1, 0, 1, 0, 0, 1, 1,\n",
       "       1, 0, 0, 0, 0, 1, 0, 1, 1, 0, 1, 1, 0, 0, 1, 0, 1, 1, 0, 1, 0, 0,\n",
       "       1, 0, 1, 1, 0, 1, 0, 1, 1, 1, 1, 0, 0, 0, 1, 0, 0, 0, 0, 1, 0, 0,\n",
       "       0, 0, 0, 0, 0, 1, 0, 1, 0, 0, 0, 1, 0, 0, 0, 1, 0, 1, 0, 0, 1, 1,\n",
       "       1, 1, 0, 0, 0, 0, 0, 1, 1, 0, 0, 0, 1, 0, 1, 0, 1, 1, 1, 0, 1, 1,\n",
       "       1, 0, 1, 1, 1, 0, 0, 0, 1, 0])"
      ]
     },
     "execution_count": 125,
     "metadata": {},
     "output_type": "execute_result"
    }
   ],
   "source": [
    "y"
   ]
  },
  {
   "cell_type": "code",
   "execution_count": 126,
   "metadata": {},
   "outputs": [
    {
     "data": {
      "text/plain": [
       "(1000,)"
      ]
     },
     "execution_count": 126,
     "metadata": {},
     "output_type": "execute_result"
    }
   ],
   "source": [
    "y.shape"
   ]
  },
  {
   "cell_type": "code",
   "execution_count": 127,
   "metadata": {},
   "outputs": [],
   "source": [
    "X_train, X_test, y_train, y_test = train_test_split(X,y,test_size=0.2, random_state=np.random.seed(7))"
   ]
  },
  {
   "cell_type": "code",
   "execution_count": 128,
   "metadata": {},
   "outputs": [
    {
     "data": {
      "text/plain": [
       "(800, 6)"
      ]
     },
     "execution_count": 128,
     "metadata": {},
     "output_type": "execute_result"
    }
   ],
   "source": [
    "X_train.shape"
   ]
  },
  {
   "cell_type": "code",
   "execution_count": 129,
   "metadata": {},
   "outputs": [
    {
     "data": {
      "text/plain": [
       "(200, 6)"
      ]
     },
     "execution_count": 129,
     "metadata": {},
     "output_type": "execute_result"
    }
   ],
   "source": [
    "X_test.shape"
   ]
  },
  {
   "cell_type": "markdown",
   "metadata": {},
   "source": [
    "# Creating a LOgistic Regression Model"
   ]
  },
  {
   "cell_type": "code",
   "execution_count": 130,
   "metadata": {},
   "outputs": [],
   "source": [
    "from sklearn.metrics import accuracy_score, precision_recall_fscore_support, classification_report\n",
    "from sklearn.linear_model import LogisticRegression\n",
    "import wandb \n",
    "import time "
   ]
  },
  {
   "cell_type": "markdown",
   "metadata": {},
   "source": [
    "# Creating a reusable utility function that can be beneficial in the future"
   ]
  },
  {
   "cell_type": "code",
   "execution_count": 131,
   "metadata": {},
   "outputs": [],
   "source": [
    "def train_eval_pipeline(model, train_data, test_data, name):\n",
    "    #initialize wandb\n",
    "    wandb.init(project = 'Machine Learning for Detecting Twitch Channel Language', name=name)\n",
    "    #assign the data\n",
    "    (X_train, y_train)=train_data\n",
    "    (X_test, y_test)=test_data\n",
    "\n",
    "    #Train the model\n",
    "    start=time.time()\n",
    "    model.fit(X_train, y_train)\n",
    "    end=time.time()-start\n",
    "    prediction=model.predict(X_test)\n",
    "\n",
    "    wandb.log({\"accuracy\":accuracy_score(y_test, prediction)*100, \"precision\":precision_recall_fscore_support(y_test, prediction, average='macro')[0], \"recall\":precision_recall_fscore_support(y_test, prediction, average='macro')[1], \"training time\": end})\n",
    "    print(\"Accuracy Score of the Logistic Regression Classifier with default hyperparameter values {0:.2f}%\".format(accuracy_score(y_test, prediction)*100.))\n",
    "    print(\"\\n\")\n",
    "    print(\"---Classification report of the Logistic Regression Classifier with default parameter values---\")\n",
    "    print(\"\\n\")\n",
    "    print(classification_report(y_test, prediction, target_names=[\"English\", \"Non-English\"]))"
   ]
  },
  {
   "cell_type": "code",
   "execution_count": 132,
   "metadata": {},
   "outputs": [],
   "source": [
    "logreg = LogisticRegression()"
   ]
  },
  {
   "cell_type": "code",
   "execution_count": 133,
   "metadata": {},
   "outputs": [
    {
     "data": {
      "text/plain": [
       "LogisticRegression()"
      ]
     },
     "execution_count": 133,
     "metadata": {},
     "output_type": "execute_result"
    }
   ],
   "source": [
    "logreg"
   ]
  },
  {
   "cell_type": "code",
   "execution_count": 154,
   "metadata": {},
   "outputs": [
    {
     "data": {
      "text/html": [
       "Finishing last run (ID:2wby6h2q) before initializing another..."
      ],
      "text/plain": [
       "<IPython.core.display.HTML object>"
      ]
     },
     "metadata": {},
     "output_type": "display_data"
    },
    {
     "data": {
      "text/html": [
       "<br/>Waiting for W&B process to finish, PID 8604<br/>Program ended successfully."
      ],
      "text/plain": [
       "<IPython.core.display.HTML object>"
      ]
     },
     "metadata": {},
     "output_type": "display_data"
    },
    {
     "data": {
      "application/vnd.jupyter.widget-view+json": {
       "model_id": "40b5260c52f14f5784e3542ee9ecea6f",
       "version_major": 2,
       "version_minor": 0
      },
      "text/plain": [
       "VBox(children=(Label(value=' 0.00MB of 0.00MB uploaded (0.00MB deduped)\\r'), FloatProgress(value=1.0, max=1.0)…"
      ]
     },
     "metadata": {},
     "output_type": "display_data"
    },
    {
     "data": {
      "text/html": [
       "Find user logs for this run at: <code>c:\\Users\\keith\\Desktop\\Fall 2021\\APT 3025 Machine Learning\\wandb\\run-20211009_234237-2wby6h2q\\logs\\debug.log</code>"
      ],
      "text/plain": [
       "<IPython.core.display.HTML object>"
      ]
     },
     "metadata": {},
     "output_type": "display_data"
    },
    {
     "data": {
      "text/html": [
       "Find internal logs for this run at: <code>c:\\Users\\keith\\Desktop\\Fall 2021\\APT 3025 Machine Learning\\wandb\\run-20211009_234237-2wby6h2q\\logs\\debug-internal.log</code>"
      ],
      "text/plain": [
       "<IPython.core.display.HTML object>"
      ]
     },
     "metadata": {},
     "output_type": "display_data"
    },
    {
     "data": {
      "text/html": [
       "<h3>Run summary:</h3><br/><style>\n",
       "    table.wandb td:nth-child(1) { padding: 0 10px; text-align: right }\n",
       "    </style><table class=\"wandb\">\n",
       "<tr><td>accuracy</td><td>100.0</td></tr><tr><td>precision</td><td>1.0</td></tr><tr><td>recall</td><td>1.0</td></tr><tr><td>training time</td><td>0.003</td></tr><tr><td>_runtime</td><td>3</td></tr><tr><td>_timestamp</td><td>1633812165</td></tr><tr><td>_step</td><td>0</td></tr></table>"
      ],
      "text/plain": [
       "<IPython.core.display.HTML object>"
      ]
     },
     "metadata": {},
     "output_type": "display_data"
    },
    {
     "data": {
      "text/html": [
       "<h3>Run history:</h3><br/><style>\n",
       "    table.wandb td:nth-child(1) { padding: 0 10px; text-align: right }\n",
       "    </style><table class=\"wandb\">\n",
       "<tr><td>accuracy</td><td>▁</td></tr><tr><td>precision</td><td>▁</td></tr><tr><td>recall</td><td>▁</td></tr><tr><td>training time</td><td>▁</td></tr><tr><td>_runtime</td><td>▁</td></tr><tr><td>_timestamp</td><td>▁</td></tr><tr><td>_step</td><td>▁</td></tr></table><br/>"
      ],
      "text/plain": [
       "<IPython.core.display.HTML object>"
      ]
     },
     "metadata": {},
     "output_type": "display_data"
    },
    {
     "data": {
      "text/html": [
       "Synced 5 W&B file(s), 0 media file(s), 0 artifact file(s) and 0 other file(s)"
      ],
      "text/plain": [
       "<IPython.core.display.HTML object>"
      ]
     },
     "metadata": {},
     "output_type": "display_data"
    },
    {
     "data": {
      "text/html": [
       "\n",
       "                    <br/>Synced <strong style=\"color:#cdcd00\">Logistic_Regression_Twitch_Channel_Language</strong>: <a href=\"https://wandb.ai/flick/Machine%20Learning%20for%20Detecting%20Twitch%20Channel%20Language/runs/2wby6h2q\" target=\"_blank\">https://wandb.ai/flick/Machine%20Learning%20for%20Detecting%20Twitch%20Channel%20Language/runs/2wby6h2q</a><br/>\n",
       "                "
      ],
      "text/plain": [
       "<IPython.core.display.HTML object>"
      ]
     },
     "metadata": {},
     "output_type": "display_data"
    },
    {
     "data": {
      "text/html": [
       "...Successfully finished last run (ID:2wby6h2q). Initializing new run:<br/><br/>"
      ],
      "text/plain": [
       "<IPython.core.display.HTML object>"
      ]
     },
     "metadata": {},
     "output_type": "display_data"
    },
    {
     "name": "stderr",
     "output_type": "stream",
     "text": [
      "\u001b[34m\u001b[1mwandb\u001b[0m: wandb version 0.12.4 is available!  To upgrade, please run:\n",
      "\u001b[34m\u001b[1mwandb\u001b[0m:  $ pip install wandb --upgrade\n"
     ]
    },
    {
     "data": {
      "text/html": [
       "\n",
       "                Tracking run with wandb version 0.12.1<br/>\n",
       "                Syncing run <strong style=\"color:#cdcd00\">Logistic_Regression_Twitch_Channel_Language</strong> to <a href=\"https://wandb.ai\" target=\"_blank\">Weights & Biases</a> <a href=\"https://docs.wandb.com/integrations/jupyter.html\" target=\"_blank\">(Documentation)</a>.<br/>\n",
       "                Project page: <a href=\"https://wandb.ai/flick/Machine%20Learning%20for%20Detecting%20Twitch%20Channel%20Language\" target=\"_blank\">https://wandb.ai/flick/Machine%20Learning%20for%20Detecting%20Twitch%20Channel%20Language</a><br/>\n",
       "                Run page: <a href=\"https://wandb.ai/flick/Machine%20Learning%20for%20Detecting%20Twitch%20Channel%20Language/runs/51ss924u\" target=\"_blank\">https://wandb.ai/flick/Machine%20Learning%20for%20Detecting%20Twitch%20Channel%20Language/runs/51ss924u</a><br/>\n",
       "                Run data is saved locally in <code>c:\\Users\\keith\\Desktop\\Fall 2021\\APT 3025 Machine Learning\\wandb\\run-20211009_234247-51ss924u</code><br/><br/>\n",
       "            "
      ],
      "text/plain": [
       "<IPython.core.display.HTML object>"
      ]
     },
     "metadata": {},
     "output_type": "display_data"
    },
    {
     "name": "stdout",
     "output_type": "stream",
     "text": [
      "Accuracy Score of the Logistic Regression Classifier with default hyperparameter values 100.00%\n",
      "\n",
      "\n",
      "---Classification report of the Logistic Regression Classifier with default parameter values---\n",
      "\n",
      "\n",
      "              precision    recall  f1-score   support\n",
      "\n",
      "     English       1.00      1.00      1.00       109\n",
      " Non-English       1.00      1.00      1.00        91\n",
      "\n",
      "    accuracy                           1.00       200\n",
      "   macro avg       1.00      1.00      1.00       200\n",
      "weighted avg       1.00      1.00      1.00       200\n",
      "\n"
     ]
    }
   ],
   "source": [
    "train_eval_pipeline(logreg, (X_train, y_train), (X_test, y_test), \"Logistic_Regression_Twitch_Channel_Language\")"
   ]
  },
  {
   "cell_type": "markdown",
   "metadata": {},
   "source": [
    "# Can we improve the model?"
   ]
  },
  {
   "cell_type": "markdown",
   "metadata": {},
   "source": [
    "## A good way to start approaching is to tune the hyperparameters of the model. We need to define the grid of the values of the hyperparameters that we need to tune. We will use the random searchfor hyperparameter tuning."
   ]
  },
  {
   "cell_type": "markdown",
   "metadata": {},
   "source": [
    "# Import GridSearchCV"
   ]
  },
  {
   "cell_type": "code",
   "execution_count": 135,
   "metadata": {},
   "outputs": [],
   "source": [
    "from sklearn.model_selection import RandomizedSearchCV"
   ]
  },
  {
   "cell_type": "markdown",
   "metadata": {},
   "source": [
    "# Define the grid of values"
   ]
  },
  {
   "cell_type": "code",
   "execution_count": 136,
   "metadata": {},
   "outputs": [],
   "source": [
    "penalty = [\"l1\", \"l2\"]"
   ]
  },
  {
   "cell_type": "code",
   "execution_count": 137,
   "metadata": {},
   "outputs": [],
   "source": [
    "C = [0.8, 0.9, 1.0]"
   ]
  },
  {
   "cell_type": "code",
   "execution_count": 138,
   "metadata": {},
   "outputs": [],
   "source": [
    "tol = [0.01, 0.001, 0.0001]"
   ]
  },
  {
   "cell_type": "code",
   "execution_count": 139,
   "metadata": {},
   "outputs": [],
   "source": [
    "max_iter = [100, 150, 200, 250]"
   ]
  },
  {
   "cell_type": "markdown",
   "metadata": {},
   "source": [
    "# Create a dictionary where tol and max_iter are keys and lists of their values\n",
    "# are the corresponding values"
   ]
  },
  {
   "cell_type": "code",
   "execution_count": 140,
   "metadata": {},
   "outputs": [],
   "source": [
    "param_grid = dict(penalty = penalty, C = C, tol = tol, max_iter = max_iter)"
   ]
  },
  {
   "cell_type": "markdown",
   "metadata": {},
   "source": [
    "# Now that we have the grid, we look for a set of hyperparameter values."
   ]
  },
  {
   "cell_type": "markdown",
   "metadata": {},
   "source": [
    "# We instantiate RandomizedSearchCV with the search paramaters"
   ]
  },
  {
   "cell_type": "code",
   "execution_count": 141,
   "metadata": {},
   "outputs": [],
   "source": [
    "random_model = RandomizedSearchCV(estimator=logreg, param_distributions=param_grid, cv=5)"
   ]
  },
  {
   "cell_type": "markdown",
   "metadata": {},
   "source": [
    "# Fit the model to the data"
   ]
  },
  {
   "cell_type": "code",
   "execution_count": 142,
   "metadata": {},
   "outputs": [],
   "source": [
    "random_model_results= random_model.fit(X_train, y_train)"
   ]
  },
  {
   "cell_type": "markdown",
   "metadata": {},
   "source": [
    "# Summarize the results"
   ]
  },
  {
   "cell_type": "code",
   "execution_count": 143,
   "metadata": {},
   "outputs": [],
   "source": [
    "best_score, best_params = random_model_results.best_score_,random_model_results.best_params_"
   ]
  },
  {
   "cell_type": "code",
   "execution_count": 144,
   "metadata": {},
   "outputs": [
    {
     "name": "stdout",
     "output_type": "stream",
     "text": [
      "Best score: 100.00 using {'tol': 0.01, 'penalty': 'l2', 'max_iter': 150, 'C': 0.8}\n"
     ]
    }
   ],
   "source": [
    "print('Best score: %.2f using %s'%(best_score*100., best_params))"
   ]
  },
  {
   "cell_type": "markdown",
   "metadata": {},
   "source": [
    "# Log the results of the hyperparameter in wandb"
   ]
  },
  {
   "cell_type": "code",
   "execution_count": 145,
   "metadata": {},
   "outputs": [],
   "source": [
    "config = wandb.config"
   ]
  },
  {
   "cell_type": "code",
   "execution_count": 146,
   "metadata": {},
   "outputs": [],
   "source": [
    "config.tol = 0.01"
   ]
  },
  {
   "cell_type": "code",
   "execution_count": 147,
   "metadata": {},
   "outputs": [],
   "source": [
    "config.penalty = \"l2\""
   ]
  },
  {
   "cell_type": "code",
   "execution_count": 148,
   "metadata": {},
   "outputs": [],
   "source": [
    "config.C = 1.0"
   ]
  },
  {
   "cell_type": "markdown",
   "metadata": {},
   "source": [
    "# Train the model"
   ]
  },
  {
   "cell_type": "code",
   "execution_count": 149,
   "metadata": {},
   "outputs": [],
   "source": [
    "logreg = LogisticRegression(tol=config.tol, penalty = config.penalty, max_iter = 250, C = config.C)"
   ]
  },
  {
   "cell_type": "code",
   "execution_count": 150,
   "metadata": {},
   "outputs": [
    {
     "data": {
      "text/plain": [
       "LogisticRegression(max_iter=250, tol=0.01)"
      ]
     },
     "execution_count": 150,
     "metadata": {},
     "output_type": "execute_result"
    }
   ],
   "source": [
    "logreg"
   ]
  },
  {
   "cell_type": "code",
   "execution_count": 157,
   "metadata": {},
   "outputs": [
    {
     "data": {
      "text/html": [
       "Finishing last run (ID:1c2qew54) before initializing another..."
      ],
      "text/plain": [
       "<IPython.core.display.HTML object>"
      ]
     },
     "metadata": {},
     "output_type": "display_data"
    },
    {
     "data": {
      "text/html": [
       "<br/>Waiting for W&B process to finish, PID 23340<br/>Program ended successfully."
      ],
      "text/plain": [
       "<IPython.core.display.HTML object>"
      ]
     },
     "metadata": {},
     "output_type": "display_data"
    },
    {
     "data": {
      "application/vnd.jupyter.widget-view+json": {
       "model_id": "019935f95adf4618a31f0520a0b2be87",
       "version_major": 2,
       "version_minor": 0
      },
      "text/plain": [
       "VBox(children=(Label(value=' 0.00MB of 0.00MB uploaded (0.00MB deduped)\\r'), FloatProgress(value=1.0, max=1.0)…"
      ]
     },
     "metadata": {},
     "output_type": "display_data"
    },
    {
     "data": {
      "text/html": [
       "Find user logs for this run at: <code>c:\\Users\\keith\\Desktop\\Fall 2021\\APT 3025 Machine Learning\\wandb\\run-20211009_234314-1c2qew54\\logs\\debug.log</code>"
      ],
      "text/plain": [
       "<IPython.core.display.HTML object>"
      ]
     },
     "metadata": {},
     "output_type": "display_data"
    },
    {
     "data": {
      "text/html": [
       "Find internal logs for this run at: <code>c:\\Users\\keith\\Desktop\\Fall 2021\\APT 3025 Machine Learning\\wandb\\run-20211009_234314-1c2qew54\\logs\\debug-internal.log</code>"
      ],
      "text/plain": [
       "<IPython.core.display.HTML object>"
      ]
     },
     "metadata": {},
     "output_type": "display_data"
    },
    {
     "data": {
      "text/html": [
       "<h3>Run summary:</h3><br/><style>\n",
       "    table.wandb td:nth-child(1) { padding: 0 10px; text-align: right }\n",
       "    </style><table class=\"wandb\">\n",
       "<tr><td>accuracy</td><td>100.0</td></tr><tr><td>precision</td><td>1.0</td></tr><tr><td>recall</td><td>1.0</td></tr><tr><td>training time</td><td>0.003</td></tr><tr><td>_runtime</td><td>2</td></tr><tr><td>_timestamp</td><td>1633812202</td></tr><tr><td>_step</td><td>0</td></tr></table>"
      ],
      "text/plain": [
       "<IPython.core.display.HTML object>"
      ]
     },
     "metadata": {},
     "output_type": "display_data"
    },
    {
     "data": {
      "text/html": [
       "<h3>Run history:</h3><br/><style>\n",
       "    table.wandb td:nth-child(1) { padding: 0 10px; text-align: right }\n",
       "    </style><table class=\"wandb\">\n",
       "<tr><td>accuracy</td><td>▁</td></tr><tr><td>precision</td><td>▁</td></tr><tr><td>recall</td><td>▁</td></tr><tr><td>training time</td><td>▁</td></tr><tr><td>_runtime</td><td>▁</td></tr><tr><td>_timestamp</td><td>▁</td></tr><tr><td>_step</td><td>▁</td></tr></table><br/>"
      ],
      "text/plain": [
       "<IPython.core.display.HTML object>"
      ]
     },
     "metadata": {},
     "output_type": "display_data"
    },
    {
     "data": {
      "text/html": [
       "Synced 5 W&B file(s), 0 media file(s), 0 artifact file(s) and 0 other file(s)"
      ],
      "text/plain": [
       "<IPython.core.display.HTML object>"
      ]
     },
     "metadata": {},
     "output_type": "display_data"
    },
    {
     "data": {
      "text/html": [
       "\n",
       "                    <br/>Synced <strong style=\"color:#cdcd00\">Logistic-Regression-Random-Search</strong>: <a href=\"https://wandb.ai/flick/Machine%20Learning%20for%20Detecting%20Twitch%20Channel%20Language/runs/1c2qew54\" target=\"_blank\">https://wandb.ai/flick/Machine%20Learning%20for%20Detecting%20Twitch%20Channel%20Language/runs/1c2qew54</a><br/>\n",
       "                "
      ],
      "text/plain": [
       "<IPython.core.display.HTML object>"
      ]
     },
     "metadata": {},
     "output_type": "display_data"
    },
    {
     "data": {
      "text/html": [
       "...Successfully finished last run (ID:1c2qew54). Initializing new run:<br/><br/>"
      ],
      "text/plain": [
       "<IPython.core.display.HTML object>"
      ]
     },
     "metadata": {},
     "output_type": "display_data"
    },
    {
     "name": "stderr",
     "output_type": "stream",
     "text": [
      "\u001b[34m\u001b[1mwandb\u001b[0m: wandb version 0.12.4 is available!  To upgrade, please run:\n",
      "\u001b[34m\u001b[1mwandb\u001b[0m:  $ pip install wandb --upgrade\n"
     ]
    },
    {
     "data": {
      "text/html": [
       "\n",
       "                Tracking run with wandb version 0.12.1<br/>\n",
       "                Syncing run <strong style=\"color:#cdcd00\">Logistic-Regression-Random-Search</strong> to <a href=\"https://wandb.ai\" target=\"_blank\">Weights & Biases</a> <a href=\"https://docs.wandb.com/integrations/jupyter.html\" target=\"_blank\">(Documentation)</a>.<br/>\n",
       "                Project page: <a href=\"https://wandb.ai/flick/Machine%20Learning%20for%20Detecting%20Twitch%20Channel%20Language\" target=\"_blank\">https://wandb.ai/flick/Machine%20Learning%20for%20Detecting%20Twitch%20Channel%20Language</a><br/>\n",
       "                Run page: <a href=\"https://wandb.ai/flick/Machine%20Learning%20for%20Detecting%20Twitch%20Channel%20Language/runs/a8nblnll\" target=\"_blank\">https://wandb.ai/flick/Machine%20Learning%20for%20Detecting%20Twitch%20Channel%20Language/runs/a8nblnll</a><br/>\n",
       "                Run data is saved locally in <code>c:\\Users\\keith\\Desktop\\Fall 2021\\APT 3025 Machine Learning\\wandb\\run-20211009_234324-a8nblnll</code><br/><br/>\n",
       "            "
      ],
      "text/plain": [
       "<IPython.core.display.HTML object>"
      ]
     },
     "metadata": {},
     "output_type": "display_data"
    },
    {
     "name": "stdout",
     "output_type": "stream",
     "text": [
      "Accuracy Score of the Logistic Regression Classifier with default hyperparameter values 100.00%\n",
      "\n",
      "\n",
      "---Classification report of the Logistic Regression Classifier with default parameter values---\n",
      "\n",
      "\n",
      "              precision    recall  f1-score   support\n",
      "\n",
      "     English       1.00      1.00      1.00       109\n",
      " Non-English       1.00      1.00      1.00        91\n",
      "\n",
      "    accuracy                           1.00       200\n",
      "   macro avg       1.00      1.00      1.00       200\n",
      "weighted avg       1.00      1.00      1.00       200\n",
      "\n"
     ]
    }
   ],
   "source": [
    "train_eval_pipeline(logreg, (X_train,y_train), (X_test,y_test), \"Logistic-Regression-Random-Search\")"
   ]
  }
 ],
 "metadata": {
  "interpreter": {
   "hash": "63fd5069d213b44bf678585dea6b12cceca9941eaf7f819626cde1f2670de90d"
  },
  "kernelspec": {
   "display_name": "Python 3.9.6 64-bit",
   "name": "python3"
  },
  "language_info": {
   "codemirror_mode": {
    "name": "ipython",
    "version": 3
   },
   "file_extension": ".py",
   "mimetype": "text/x-python",
   "name": "python",
   "nbconvert_exporter": "python",
   "pygments_lexer": "ipython3",
   "version": "3.9.6"
  },
  "orig_nbformat": 4
 },
 "nbformat": 4,
 "nbformat_minor": 2
}
